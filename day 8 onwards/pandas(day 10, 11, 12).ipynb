{
 "cells": [
  {
   "cell_type": "markdown",
   "id": "2c6d9ba3-e9a9-4ad9-934c-a7532ed6301c",
   "metadata": {},
   "source": [
    "# Pandas"
   ]
  },
  {
   "cell_type": "code",
   "execution_count": 1,
   "id": "bba0efc3-ffe2-46aa-adae-3d0a88bea14a",
   "metadata": {},
   "outputs": [],
   "source": [
    "# used for data manipulation and analysis\n",
    "# also  for visualisation\n",
    "# * is used to make bullet points"
   ]
  },
  {
   "cell_type": "code",
   "execution_count": 2,
   "id": "5825c7f4-c165-452b-a5cf-1ae1e62d6dff",
   "metadata": {},
   "outputs": [],
   "source": [
    "import pandas as pd\n"
   ]
  },
  {
   "cell_type": "markdown",
   "id": "00516123-a9fb-4b10-80cc-3f2771f0d3b5",
   "metadata": {},
   "source": [
    "* Series------1d array\n",
    "* Data frame----2d array(table format, row and column)\n",
    "\n",
    "# Series\n"
   ]
  },
  {
   "cell_type": "code",
   "execution_count": 3,
   "id": "0db91a6d-6e30-4679-966f-8c8c311f5511",
   "metadata": {},
   "outputs": [
    {
     "name": "stderr",
     "output_type": "stream",
     "text": [
      "C:\\Users\\jaisw\\AppData\\Local\\Temp\\ipykernel_8296\\427388132.py:1: FutureWarning: The default dtype for empty Series will be 'object' instead of 'float64' in a future version. Specify a dtype explicitly to silence this warning.\n",
      "  a=pd.Series([])\n"
     ]
    }
   ],
   "source": [
    "a=pd.Series([])\n",
    "b=pd.Series([1,2,33,47,58,100])\n",
    "c=pd.Series((45,89,20,30,44))\n",
    "d=pd.Series({'a':10,'b':15,'c':56,'d':69})"
   ]
  },
  {
   "cell_type": "code",
   "execution_count": 4,
   "id": "e3698099-2906-40c8-a14c-e6d8e93f0fb0",
   "metadata": {},
   "outputs": [
    {
     "name": "stdout",
     "output_type": "stream",
     "text": [
      "<class 'pandas.core.series.Series'>\n",
      "<class 'pandas.core.series.Series'>\n"
     ]
    }
   ],
   "source": [
    "print(type(a))\n",
    "print(type(b))"
   ]
  },
  {
   "cell_type": "code",
   "execution_count": 5,
   "id": "1b303e3f-01ce-498c-8f80-1c39a7bb8b0f",
   "metadata": {},
   "outputs": [
    {
     "data": {
      "text/plain": [
       "0      1\n",
       "1      2\n",
       "2     33\n",
       "3     47\n",
       "4     58\n",
       "5    100\n",
       "dtype: int64"
      ]
     },
     "execution_count": 5,
     "metadata": {},
     "output_type": "execute_result"
    }
   ],
   "source": [
    "b"
   ]
  },
  {
   "cell_type": "code",
   "execution_count": 6,
   "id": "973a837c-9383-463d-848d-c67e379e326f",
   "metadata": {},
   "outputs": [
    {
     "data": {
      "text/plain": [
       "Series([], dtype: float64)"
      ]
     },
     "execution_count": 6,
     "metadata": {},
     "output_type": "execute_result"
    }
   ],
   "source": [
    "a"
   ]
  },
  {
   "cell_type": "code",
   "execution_count": 7,
   "id": "dfad47bc-6387-4039-a400-138821510e59",
   "metadata": {},
   "outputs": [
    {
     "data": {
      "text/plain": [
       "0    45\n",
       "1    89\n",
       "2    20\n",
       "3    30\n",
       "4    44\n",
       "dtype: int64"
      ]
     },
     "execution_count": 7,
     "metadata": {},
     "output_type": "execute_result"
    }
   ],
   "source": [
    "c"
   ]
  },
  {
   "cell_type": "code",
   "execution_count": 8,
   "id": "69fd66a0-b04c-46f0-ad49-924d5e9e8763",
   "metadata": {},
   "outputs": [
    {
     "data": {
      "text/plain": [
       "a    10\n",
       "b    15\n",
       "c    56\n",
       "d    69\n",
       "dtype: int64"
      ]
     },
     "execution_count": 8,
     "metadata": {},
     "output_type": "execute_result"
    }
   ],
   "source": [
    "d"
   ]
  },
  {
   "cell_type": "code",
   "execution_count": 9,
   "id": "03a613c7-c540-4ebe-86e0-152280eddb86",
   "metadata": {},
   "outputs": [],
   "source": [
    "import numpy as np\n",
    "n= np.array([1,2,3,4,40])\n",
    "x=pd.Series(n)"
   ]
  },
  {
   "cell_type": "code",
   "execution_count": 10,
   "id": "71305cd4-c37f-4811-a1c0-8414b1850132",
   "metadata": {},
   "outputs": [
    {
     "data": {
      "text/plain": [
       "0     1\n",
       "1     2\n",
       "2     3\n",
       "3     4\n",
       "4    40\n",
       "dtype: int32"
      ]
     },
     "execution_count": 10,
     "metadata": {},
     "output_type": "execute_result"
    }
   ],
   "source": [
    "x"
   ]
  },
  {
   "cell_type": "code",
   "execution_count": 11,
   "id": "e783183a-b169-4634-aa32-1cbc4c034705",
   "metadata": {},
   "outputs": [
    {
     "data": {
      "text/plain": [
       "pandas.core.series.Series"
      ]
     },
     "execution_count": 11,
     "metadata": {},
     "output_type": "execute_result"
    }
   ],
   "source": [
    "type(x)"
   ]
  },
  {
   "cell_type": "code",
   "execution_count": 12,
   "id": "03622b1f-1a37-47f2-8b5e-26d4e54a9acc",
   "metadata": {},
   "outputs": [],
   "source": [
    "b=pd.Series([1,2,[11,10],33,[12,23],47,58,100])"
   ]
  },
  {
   "cell_type": "code",
   "execution_count": 13,
   "id": "8f6a6f31-d7ff-45e3-8478-fd7464979257",
   "metadata": {},
   "outputs": [
    {
     "data": {
      "text/plain": [
       "0           1\n",
       "1           2\n",
       "2    [11, 10]\n",
       "3          33\n",
       "4    [12, 23]\n",
       "5          47\n",
       "6          58\n",
       "7         100\n",
       "dtype: object"
      ]
     },
     "execution_count": 13,
     "metadata": {},
     "output_type": "execute_result"
    }
   ],
   "source": [
    "b"
   ]
  },
  {
   "cell_type": "code",
   "execution_count": 14,
   "id": "49ad2646-444b-4324-9697-d765f186184e",
   "metadata": {},
   "outputs": [
    {
     "data": {
      "text/plain": [
       "1"
      ]
     },
     "execution_count": 14,
     "metadata": {},
     "output_type": "execute_result"
    }
   ],
   "source": [
    "b[0]"
   ]
  },
  {
   "cell_type": "code",
   "execution_count": 15,
   "id": "550f4cfc-8691-451a-97a9-b7cf8b73c8e2",
   "metadata": {},
   "outputs": [
    {
     "data": {
      "text/plain": [
       "3          33\n",
       "4    [12, 23]\n",
       "5          47\n",
       "6          58\n",
       "dtype: object"
      ]
     },
     "execution_count": 15,
     "metadata": {},
     "output_type": "execute_result"
    }
   ],
   "source": [
    "b[3:7]"
   ]
  },
  {
   "cell_type": "code",
   "execution_count": 16,
   "id": "48ab058f-51bd-45ea-bda6-f508b1e9a0ce",
   "metadata": {},
   "outputs": [
    {
     "data": {
      "text/plain": [
       "a    10\n",
       "b    15\n",
       "c    56\n",
       "d    69\n",
       "dtype: int64"
      ]
     },
     "execution_count": 16,
     "metadata": {},
     "output_type": "execute_result"
    }
   ],
   "source": [
    "d"
   ]
  },
  {
   "cell_type": "code",
   "execution_count": 17,
   "id": "2dad52eb-67c6-467c-b93d-c719861b8a11",
   "metadata": {},
   "outputs": [
    {
     "data": {
      "text/plain": [
       "69"
      ]
     },
     "execution_count": 17,
     "metadata": {},
     "output_type": "execute_result"
    }
   ],
   "source": [
    "d['d']"
   ]
  },
  {
   "cell_type": "code",
   "execution_count": 18,
   "id": "06cd4459-1b8b-4d82-942c-1e915af8696a",
   "metadata": {},
   "outputs": [
    {
     "data": {
      "text/plain": [
       "b    15\n",
       "c    56\n",
       "d    69\n",
       "dtype: int64"
      ]
     },
     "execution_count": 18,
     "metadata": {},
     "output_type": "execute_result"
    }
   ],
   "source": [
    "d['b':'d']"
   ]
  },
  {
   "cell_type": "code",
   "execution_count": 19,
   "id": "2cafb991-9cd5-477f-9ff1-a41f7517d84f",
   "metadata": {},
   "outputs": [],
   "source": [
    "s=pd.Series([12,52,42,10,23],index=['q','w','e','r','t'])"
   ]
  },
  {
   "cell_type": "code",
   "execution_count": 20,
   "id": "64236f4c-89f8-4826-94c8-65cec711c463",
   "metadata": {},
   "outputs": [
    {
     "data": {
      "text/plain": [
       "q    12\n",
       "w    52\n",
       "e    42\n",
       "r    10\n",
       "t    23\n",
       "dtype: int64"
      ]
     },
     "execution_count": 20,
     "metadata": {},
     "output_type": "execute_result"
    }
   ],
   "source": [
    "s"
   ]
  },
  {
   "cell_type": "code",
   "execution_count": 21,
   "id": "ae6c4f85-13e9-44e8-9239-c33b3b8cbcc5",
   "metadata": {},
   "outputs": [],
   "source": [
    "s1=pd.Series([12,52,42,10,23],index=list('qwert'))"
   ]
  },
  {
   "cell_type": "code",
   "execution_count": 22,
   "id": "c6b950c5-a20f-49c8-ac9e-64ced95c52c2",
   "metadata": {},
   "outputs": [
    {
     "data": {
      "text/plain": [
       "q    12\n",
       "w    52\n",
       "e    42\n",
       "r    10\n",
       "t    23\n",
       "dtype: int64"
      ]
     },
     "execution_count": 22,
     "metadata": {},
     "output_type": "execute_result"
    }
   ],
   "source": [
    "s1"
   ]
  },
  {
   "cell_type": "code",
   "execution_count": 23,
   "id": "57cb1397-5320-4be3-9972-6e29ad7c5269",
   "metadata": {},
   "outputs": [],
   "source": [
    "s2=pd.Series([12,12,12,52,42,10,10,23])"
   ]
  },
  {
   "cell_type": "code",
   "execution_count": 24,
   "id": "55ee9c5e-7439-4a0d-8219-4d01aaf2dbec",
   "metadata": {},
   "outputs": [
    {
     "data": {
      "text/plain": [
       "0    12\n",
       "1    12\n",
       "2    12\n",
       "3    52\n",
       "4    42\n",
       "5    10\n",
       "6    10\n",
       "7    23\n",
       "dtype: int64"
      ]
     },
     "execution_count": 24,
     "metadata": {},
     "output_type": "execute_result"
    }
   ],
   "source": [
    "s2"
   ]
  },
  {
   "cell_type": "code",
   "execution_count": 25,
   "id": "96897e4e-2b03-41ff-9da5-48fbb72b4530",
   "metadata": {},
   "outputs": [
    {
     "data": {
      "text/plain": [
       "12    3\n",
       "10    2\n",
       "52    1\n",
       "42    1\n",
       "23    1\n",
       "dtype: int64"
      ]
     },
     "execution_count": 25,
     "metadata": {},
     "output_type": "execute_result"
    }
   ],
   "source": [
    "s2.value_counts()"
   ]
  },
  {
   "cell_type": "code",
   "execution_count": 26,
   "id": "bd2840c5-cbea-4680-89e5-9ad8d7f44a40",
   "metadata": {},
   "outputs": [
    {
     "data": {
      "text/plain": [
       "3"
      ]
     },
     "execution_count": 26,
     "metadata": {},
     "output_type": "execute_result"
    }
   ],
   "source": [
    "s2.argmax()"
   ]
  },
  {
   "cell_type": "code",
   "execution_count": 27,
   "id": "a6893003-e2e0-4714-ac20-72ded04fc854",
   "metadata": {},
   "outputs": [
    {
     "data": {
      "text/plain": [
       "5"
      ]
     },
     "execution_count": 27,
     "metadata": {},
     "output_type": "execute_result"
    }
   ],
   "source": [
    "s2.argmin()"
   ]
  },
  {
   "cell_type": "code",
   "execution_count": 28,
   "id": "f47025ff-3832-4e32-9166-e83a9733e434",
   "metadata": {},
   "outputs": [
    {
     "data": {
      "text/plain": [
       "1"
      ]
     },
     "execution_count": 28,
     "metadata": {},
     "output_type": "execute_result"
    }
   ],
   "source": [
    "s1.argmax()"
   ]
  },
  {
   "cell_type": "code",
   "execution_count": 29,
   "id": "2c7d9227-6113-4c69-b6b7-3e69659ad973",
   "metadata": {},
   "outputs": [
    {
     "data": {
      "text/plain": [
       "q    12\n",
       "w    52\n",
       "e    42\n",
       "r    10\n",
       "t    23\n",
       "dtype: int64"
      ]
     },
     "execution_count": 29,
     "metadata": {},
     "output_type": "execute_result"
    }
   ],
   "source": [
    "s1"
   ]
  },
  {
   "cell_type": "code",
   "execution_count": 30,
   "id": "6ba35901-4310-4536-92a8-6caa89f2379a",
   "metadata": {},
   "outputs": [
    {
     "data": {
      "text/plain": [
       "'w'"
      ]
     },
     "execution_count": 30,
     "metadata": {},
     "output_type": "execute_result"
    }
   ],
   "source": [
    "s1.idxmax()"
   ]
  },
  {
   "cell_type": "code",
   "execution_count": 31,
   "id": "751cfe5a-fef6-4613-a26d-b9e34920a30b",
   "metadata": {},
   "outputs": [
    {
     "data": {
      "text/plain": [
       "'r'"
      ]
     },
     "execution_count": 31,
     "metadata": {},
     "output_type": "execute_result"
    }
   ],
   "source": [
    "s1.idxmin()"
   ]
  },
  {
   "cell_type": "markdown",
   "id": "94929e64-c08d-4dda-9331-5286e7e2e04b",
   "metadata": {},
   "source": [
    "# Data Frame"
   ]
  },
  {
   "cell_type": "code",
   "execution_count": 32,
   "id": "4ff86028-37fe-47e7-9d61-7f76c552c33b",
   "metadata": {},
   "outputs": [],
   "source": [
    "a=pd.DataFrame()\n",
    "b=pd.DataFrame([1,2,55,40,86])"
   ]
  },
  {
   "cell_type": "code",
   "execution_count": 33,
   "id": "57c03e83-28fb-4279-9f81-d6132af6786e",
   "metadata": {},
   "outputs": [
    {
     "data": {
      "text/html": [
       "<div>\n",
       "<style scoped>\n",
       "    .dataframe tbody tr th:only-of-type {\n",
       "        vertical-align: middle;\n",
       "    }\n",
       "\n",
       "    .dataframe tbody tr th {\n",
       "        vertical-align: top;\n",
       "    }\n",
       "\n",
       "    .dataframe thead th {\n",
       "        text-align: right;\n",
       "    }\n",
       "</style>\n",
       "<table border=\"1\" class=\"dataframe\">\n",
       "  <thead>\n",
       "    <tr style=\"text-align: right;\">\n",
       "      <th></th>\n",
       "    </tr>\n",
       "  </thead>\n",
       "  <tbody>\n",
       "  </tbody>\n",
       "</table>\n",
       "</div>"
      ],
      "text/plain": [
       "Empty DataFrame\n",
       "Columns: []\n",
       "Index: []"
      ]
     },
     "execution_count": 33,
     "metadata": {},
     "output_type": "execute_result"
    }
   ],
   "source": [
    "a"
   ]
  },
  {
   "cell_type": "code",
   "execution_count": 34,
   "id": "e2fc398d-f8bb-44e7-858d-a092490d5047",
   "metadata": {},
   "outputs": [
    {
     "data": {
      "text/html": [
       "<div>\n",
       "<style scoped>\n",
       "    .dataframe tbody tr th:only-of-type {\n",
       "        vertical-align: middle;\n",
       "    }\n",
       "\n",
       "    .dataframe tbody tr th {\n",
       "        vertical-align: top;\n",
       "    }\n",
       "\n",
       "    .dataframe thead th {\n",
       "        text-align: right;\n",
       "    }\n",
       "</style>\n",
       "<table border=\"1\" class=\"dataframe\">\n",
       "  <thead>\n",
       "    <tr style=\"text-align: right;\">\n",
       "      <th></th>\n",
       "      <th>0</th>\n",
       "    </tr>\n",
       "  </thead>\n",
       "  <tbody>\n",
       "    <tr>\n",
       "      <th>0</th>\n",
       "      <td>1</td>\n",
       "    </tr>\n",
       "    <tr>\n",
       "      <th>1</th>\n",
       "      <td>2</td>\n",
       "    </tr>\n",
       "    <tr>\n",
       "      <th>2</th>\n",
       "      <td>55</td>\n",
       "    </tr>\n",
       "    <tr>\n",
       "      <th>3</th>\n",
       "      <td>40</td>\n",
       "    </tr>\n",
       "    <tr>\n",
       "      <th>4</th>\n",
       "      <td>86</td>\n",
       "    </tr>\n",
       "  </tbody>\n",
       "</table>\n",
       "</div>"
      ],
      "text/plain": [
       "    0\n",
       "0   1\n",
       "1   2\n",
       "2  55\n",
       "3  40\n",
       "4  86"
      ]
     },
     "execution_count": 34,
     "metadata": {},
     "output_type": "execute_result"
    }
   ],
   "source": [
    "b\n",
    "# above 0 represents 0th column"
   ]
  },
  {
   "cell_type": "code",
   "execution_count": 35,
   "id": "90ba9d0b-3c3b-4085-8bdf-1c61dffdf92b",
   "metadata": {},
   "outputs": [
    {
     "data": {
      "text/plain": [
       "pandas.core.frame.DataFrame"
      ]
     },
     "execution_count": 35,
     "metadata": {},
     "output_type": "execute_result"
    }
   ],
   "source": [
    "type(b)"
   ]
  },
  {
   "cell_type": "code",
   "execution_count": 36,
   "id": "3a8de891-dc35-4f06-a547-962106cfa40e",
   "metadata": {},
   "outputs": [],
   "source": [
    "c=pd.DataFrame([[1,2,3],[10,20,30],[7,8,9]])"
   ]
  },
  {
   "cell_type": "code",
   "execution_count": 37,
   "id": "1278f380-9113-44ef-9a89-fa8f34e8028d",
   "metadata": {},
   "outputs": [
    {
     "data": {
      "text/html": [
       "<div>\n",
       "<style scoped>\n",
       "    .dataframe tbody tr th:only-of-type {\n",
       "        vertical-align: middle;\n",
       "    }\n",
       "\n",
       "    .dataframe tbody tr th {\n",
       "        vertical-align: top;\n",
       "    }\n",
       "\n",
       "    .dataframe thead th {\n",
       "        text-align: right;\n",
       "    }\n",
       "</style>\n",
       "<table border=\"1\" class=\"dataframe\">\n",
       "  <thead>\n",
       "    <tr style=\"text-align: right;\">\n",
       "      <th></th>\n",
       "      <th>0</th>\n",
       "      <th>1</th>\n",
       "      <th>2</th>\n",
       "    </tr>\n",
       "  </thead>\n",
       "  <tbody>\n",
       "    <tr>\n",
       "      <th>0</th>\n",
       "      <td>1</td>\n",
       "      <td>2</td>\n",
       "      <td>3</td>\n",
       "    </tr>\n",
       "    <tr>\n",
       "      <th>1</th>\n",
       "      <td>10</td>\n",
       "      <td>20</td>\n",
       "      <td>30</td>\n",
       "    </tr>\n",
       "    <tr>\n",
       "      <th>2</th>\n",
       "      <td>7</td>\n",
       "      <td>8</td>\n",
       "      <td>9</td>\n",
       "    </tr>\n",
       "  </tbody>\n",
       "</table>\n",
       "</div>"
      ],
      "text/plain": [
       "    0   1   2\n",
       "0   1   2   3\n",
       "1  10  20  30\n",
       "2   7   8   9"
      ]
     },
     "execution_count": 37,
     "metadata": {},
     "output_type": "execute_result"
    }
   ],
   "source": [
    "c"
   ]
  },
  {
   "cell_type": "code",
   "execution_count": 38,
   "id": "b2c6e279-5f1e-4a86-82ec-1078e66b3aa5",
   "metadata": {},
   "outputs": [],
   "source": [
    "harshita=pd.DataFrame([['a','b','c','d','e'],['f','g','h','i','j'],['k','l','m','n','o'],['p','q','r','s','t'],['u','v','w','x','y'],[1,2,3,4,5]])"
   ]
  },
  {
   "cell_type": "code",
   "execution_count": 39,
   "id": "bbaeb5a8-1ff5-4cea-99ad-364451282352",
   "metadata": {},
   "outputs": [
    {
     "data": {
      "text/html": [
       "<div>\n",
       "<style scoped>\n",
       "    .dataframe tbody tr th:only-of-type {\n",
       "        vertical-align: middle;\n",
       "    }\n",
       "\n",
       "    .dataframe tbody tr th {\n",
       "        vertical-align: top;\n",
       "    }\n",
       "\n",
       "    .dataframe thead th {\n",
       "        text-align: right;\n",
       "    }\n",
       "</style>\n",
       "<table border=\"1\" class=\"dataframe\">\n",
       "  <thead>\n",
       "    <tr style=\"text-align: right;\">\n",
       "      <th></th>\n",
       "      <th>0</th>\n",
       "      <th>1</th>\n",
       "      <th>2</th>\n",
       "      <th>3</th>\n",
       "      <th>4</th>\n",
       "    </tr>\n",
       "  </thead>\n",
       "  <tbody>\n",
       "    <tr>\n",
       "      <th>0</th>\n",
       "      <td>a</td>\n",
       "      <td>b</td>\n",
       "      <td>c</td>\n",
       "      <td>d</td>\n",
       "      <td>e</td>\n",
       "    </tr>\n",
       "    <tr>\n",
       "      <th>1</th>\n",
       "      <td>f</td>\n",
       "      <td>g</td>\n",
       "      <td>h</td>\n",
       "      <td>i</td>\n",
       "      <td>j</td>\n",
       "    </tr>\n",
       "    <tr>\n",
       "      <th>2</th>\n",
       "      <td>k</td>\n",
       "      <td>l</td>\n",
       "      <td>m</td>\n",
       "      <td>n</td>\n",
       "      <td>o</td>\n",
       "    </tr>\n",
       "    <tr>\n",
       "      <th>3</th>\n",
       "      <td>p</td>\n",
       "      <td>q</td>\n",
       "      <td>r</td>\n",
       "      <td>s</td>\n",
       "      <td>t</td>\n",
       "    </tr>\n",
       "    <tr>\n",
       "      <th>4</th>\n",
       "      <td>u</td>\n",
       "      <td>v</td>\n",
       "      <td>w</td>\n",
       "      <td>x</td>\n",
       "      <td>y</td>\n",
       "    </tr>\n",
       "    <tr>\n",
       "      <th>5</th>\n",
       "      <td>1</td>\n",
       "      <td>2</td>\n",
       "      <td>3</td>\n",
       "      <td>4</td>\n",
       "      <td>5</td>\n",
       "    </tr>\n",
       "  </tbody>\n",
       "</table>\n",
       "</div>"
      ],
      "text/plain": [
       "   0  1  2  3  4\n",
       "0  a  b  c  d  e\n",
       "1  f  g  h  i  j\n",
       "2  k  l  m  n  o\n",
       "3  p  q  r  s  t\n",
       "4  u  v  w  x  y\n",
       "5  1  2  3  4  5"
      ]
     },
     "execution_count": 39,
     "metadata": {},
     "output_type": "execute_result"
    }
   ],
   "source": [
    "harshita"
   ]
  },
  {
   "cell_type": "code",
   "execution_count": 40,
   "id": "76b69d91-c22f-4557-b001-0e473d66f956",
   "metadata": {},
   "outputs": [
    {
     "data": {
      "text/html": [
       "<div>\n",
       "<style scoped>\n",
       "    .dataframe tbody tr th:only-of-type {\n",
       "        vertical-align: middle;\n",
       "    }\n",
       "\n",
       "    .dataframe tbody tr th {\n",
       "        vertical-align: top;\n",
       "    }\n",
       "\n",
       "    .dataframe thead th {\n",
       "        text-align: right;\n",
       "    }\n",
       "</style>\n",
       "<table border=\"1\" class=\"dataframe\">\n",
       "  <thead>\n",
       "    <tr style=\"text-align: right;\">\n",
       "      <th></th>\n",
       "      <th>0</th>\n",
       "      <th>1</th>\n",
       "      <th>2</th>\n",
       "      <th>3</th>\n",
       "      <th>4</th>\n",
       "    </tr>\n",
       "  </thead>\n",
       "  <tbody>\n",
       "    <tr>\n",
       "      <th>0</th>\n",
       "      <td>a</td>\n",
       "      <td>b</td>\n",
       "      <td>c</td>\n",
       "      <td>d</td>\n",
       "      <td>e</td>\n",
       "    </tr>\n",
       "    <tr>\n",
       "      <th>1</th>\n",
       "      <td>f</td>\n",
       "      <td>g</td>\n",
       "      <td>h</td>\n",
       "      <td>i</td>\n",
       "      <td>j</td>\n",
       "    </tr>\n",
       "    <tr>\n",
       "      <th>2</th>\n",
       "      <td>k</td>\n",
       "      <td>l</td>\n",
       "      <td>m</td>\n",
       "      <td>n</td>\n",
       "      <td>o</td>\n",
       "    </tr>\n",
       "    <tr>\n",
       "      <th>3</th>\n",
       "      <td>p</td>\n",
       "      <td>q</td>\n",
       "      <td>r</td>\n",
       "      <td>s</td>\n",
       "      <td>t</td>\n",
       "    </tr>\n",
       "    <tr>\n",
       "      <th>4</th>\n",
       "      <td>u</td>\n",
       "      <td>v</td>\n",
       "      <td>w</td>\n",
       "      <td>x</td>\n",
       "      <td>y</td>\n",
       "    </tr>\n",
       "  </tbody>\n",
       "</table>\n",
       "</div>"
      ],
      "text/plain": [
       "   0  1  2  3  4\n",
       "0  a  b  c  d  e\n",
       "1  f  g  h  i  j\n",
       "2  k  l  m  n  o\n",
       "3  p  q  r  s  t\n",
       "4  u  v  w  x  y"
      ]
     },
     "execution_count": 40,
     "metadata": {},
     "output_type": "execute_result"
    }
   ],
   "source": [
    "# head will return first five dataframe (by default)\n",
    "harshita.head()"
   ]
  },
  {
   "cell_type": "code",
   "execution_count": 41,
   "id": "b8eb7a5d-3495-4a4d-ada2-f72626b848b6",
   "metadata": {},
   "outputs": [
    {
     "data": {
      "text/html": [
       "<div>\n",
       "<style scoped>\n",
       "    .dataframe tbody tr th:only-of-type {\n",
       "        vertical-align: middle;\n",
       "    }\n",
       "\n",
       "    .dataframe tbody tr th {\n",
       "        vertical-align: top;\n",
       "    }\n",
       "\n",
       "    .dataframe thead th {\n",
       "        text-align: right;\n",
       "    }\n",
       "</style>\n",
       "<table border=\"1\" class=\"dataframe\">\n",
       "  <thead>\n",
       "    <tr style=\"text-align: right;\">\n",
       "      <th></th>\n",
       "      <th>0</th>\n",
       "      <th>1</th>\n",
       "      <th>2</th>\n",
       "      <th>3</th>\n",
       "      <th>4</th>\n",
       "    </tr>\n",
       "  </thead>\n",
       "  <tbody>\n",
       "    <tr>\n",
       "      <th>1</th>\n",
       "      <td>f</td>\n",
       "      <td>g</td>\n",
       "      <td>h</td>\n",
       "      <td>i</td>\n",
       "      <td>j</td>\n",
       "    </tr>\n",
       "    <tr>\n",
       "      <th>2</th>\n",
       "      <td>k</td>\n",
       "      <td>l</td>\n",
       "      <td>m</td>\n",
       "      <td>n</td>\n",
       "      <td>o</td>\n",
       "    </tr>\n",
       "    <tr>\n",
       "      <th>3</th>\n",
       "      <td>p</td>\n",
       "      <td>q</td>\n",
       "      <td>r</td>\n",
       "      <td>s</td>\n",
       "      <td>t</td>\n",
       "    </tr>\n",
       "    <tr>\n",
       "      <th>4</th>\n",
       "      <td>u</td>\n",
       "      <td>v</td>\n",
       "      <td>w</td>\n",
       "      <td>x</td>\n",
       "      <td>y</td>\n",
       "    </tr>\n",
       "    <tr>\n",
       "      <th>5</th>\n",
       "      <td>1</td>\n",
       "      <td>2</td>\n",
       "      <td>3</td>\n",
       "      <td>4</td>\n",
       "      <td>5</td>\n",
       "    </tr>\n",
       "  </tbody>\n",
       "</table>\n",
       "</div>"
      ],
      "text/plain": [
       "   0  1  2  3  4\n",
       "1  f  g  h  i  j\n",
       "2  k  l  m  n  o\n",
       "3  p  q  r  s  t\n",
       "4  u  v  w  x  y\n",
       "5  1  2  3  4  5"
      ]
     },
     "execution_count": 41,
     "metadata": {},
     "output_type": "execute_result"
    }
   ],
   "source": [
    "# tail will return last five dataframe (by default)\n",
    "harshita.tail()"
   ]
  },
  {
   "cell_type": "code",
   "execution_count": 42,
   "id": "c5564b8a-e8ec-47a4-b047-2560806010c1",
   "metadata": {},
   "outputs": [
    {
     "data": {
      "text/html": [
       "<div>\n",
       "<style scoped>\n",
       "    .dataframe tbody tr th:only-of-type {\n",
       "        vertical-align: middle;\n",
       "    }\n",
       "\n",
       "    .dataframe tbody tr th {\n",
       "        vertical-align: top;\n",
       "    }\n",
       "\n",
       "    .dataframe thead th {\n",
       "        text-align: right;\n",
       "    }\n",
       "</style>\n",
       "<table border=\"1\" class=\"dataframe\">\n",
       "  <thead>\n",
       "    <tr style=\"text-align: right;\">\n",
       "      <th></th>\n",
       "      <th>0</th>\n",
       "      <th>1</th>\n",
       "      <th>2</th>\n",
       "      <th>3</th>\n",
       "      <th>4</th>\n",
       "    </tr>\n",
       "  </thead>\n",
       "  <tbody>\n",
       "    <tr>\n",
       "      <th>3</th>\n",
       "      <td>p</td>\n",
       "      <td>q</td>\n",
       "      <td>r</td>\n",
       "      <td>s</td>\n",
       "      <td>t</td>\n",
       "    </tr>\n",
       "    <tr>\n",
       "      <th>4</th>\n",
       "      <td>u</td>\n",
       "      <td>v</td>\n",
       "      <td>w</td>\n",
       "      <td>x</td>\n",
       "      <td>y</td>\n",
       "    </tr>\n",
       "    <tr>\n",
       "      <th>5</th>\n",
       "      <td>1</td>\n",
       "      <td>2</td>\n",
       "      <td>3</td>\n",
       "      <td>4</td>\n",
       "      <td>5</td>\n",
       "    </tr>\n",
       "  </tbody>\n",
       "</table>\n",
       "</div>"
      ],
      "text/plain": [
       "   0  1  2  3  4\n",
       "3  p  q  r  s  t\n",
       "4  u  v  w  x  y\n",
       "5  1  2  3  4  5"
      ]
     },
     "execution_count": 42,
     "metadata": {},
     "output_type": "execute_result"
    }
   ],
   "source": [
    "#  will return last three dataframe \n",
    "harshita.tail(3)"
   ]
  },
  {
   "cell_type": "code",
   "execution_count": 43,
   "id": "b00bbc84-07b7-4e10-8aa2-10a17584ce27",
   "metadata": {},
   "outputs": [
    {
     "data": {
      "text/html": [
       "<div>\n",
       "<style scoped>\n",
       "    .dataframe tbody tr th:only-of-type {\n",
       "        vertical-align: middle;\n",
       "    }\n",
       "\n",
       "    .dataframe tbody tr th {\n",
       "        vertical-align: top;\n",
       "    }\n",
       "\n",
       "    .dataframe thead th {\n",
       "        text-align: right;\n",
       "    }\n",
       "</style>\n",
       "<table border=\"1\" class=\"dataframe\">\n",
       "  <thead>\n",
       "    <tr style=\"text-align: right;\">\n",
       "      <th></th>\n",
       "      <th>0</th>\n",
       "      <th>1</th>\n",
       "      <th>2</th>\n",
       "      <th>3</th>\n",
       "      <th>4</th>\n",
       "    </tr>\n",
       "  </thead>\n",
       "  <tbody>\n",
       "    <tr>\n",
       "      <th>5</th>\n",
       "      <td>1</td>\n",
       "      <td>2</td>\n",
       "      <td>3</td>\n",
       "      <td>4</td>\n",
       "      <td>5</td>\n",
       "    </tr>\n",
       "    <tr>\n",
       "      <th>2</th>\n",
       "      <td>k</td>\n",
       "      <td>l</td>\n",
       "      <td>m</td>\n",
       "      <td>n</td>\n",
       "      <td>o</td>\n",
       "    </tr>\n",
       "    <tr>\n",
       "      <th>3</th>\n",
       "      <td>p</td>\n",
       "      <td>q</td>\n",
       "      <td>r</td>\n",
       "      <td>s</td>\n",
       "      <td>t</td>\n",
       "    </tr>\n",
       "    <tr>\n",
       "      <th>1</th>\n",
       "      <td>f</td>\n",
       "      <td>g</td>\n",
       "      <td>h</td>\n",
       "      <td>i</td>\n",
       "      <td>j</td>\n",
       "    </tr>\n",
       "    <tr>\n",
       "      <th>4</th>\n",
       "      <td>u</td>\n",
       "      <td>v</td>\n",
       "      <td>w</td>\n",
       "      <td>x</td>\n",
       "      <td>y</td>\n",
       "    </tr>\n",
       "  </tbody>\n",
       "</table>\n",
       "</div>"
      ],
      "text/plain": [
       "   0  1  2  3  4\n",
       "5  1  2  3  4  5\n",
       "2  k  l  m  n  o\n",
       "3  p  q  r  s  t\n",
       "1  f  g  h  i  j\n",
       "4  u  v  w  x  y"
      ]
     },
     "execution_count": 43,
     "metadata": {},
     "output_type": "execute_result"
    }
   ],
   "source": [
    "harshita.sample(5)"
   ]
  },
  {
   "cell_type": "code",
   "execution_count": 44,
   "id": "af12f46b-4db0-4b4f-8289-d69484736807",
   "metadata": {},
   "outputs": [],
   "source": [
    "c1=pd.DataFrame([[1,2],[10,np.nan,30],[7,8]])"
   ]
  },
  {
   "cell_type": "code",
   "execution_count": 45,
   "id": "2030c3e8-8b14-4198-8710-ef7e2c7911ce",
   "metadata": {},
   "outputs": [
    {
     "data": {
      "text/html": [
       "<div>\n",
       "<style scoped>\n",
       "    .dataframe tbody tr th:only-of-type {\n",
       "        vertical-align: middle;\n",
       "    }\n",
       "\n",
       "    .dataframe tbody tr th {\n",
       "        vertical-align: top;\n",
       "    }\n",
       "\n",
       "    .dataframe thead th {\n",
       "        text-align: right;\n",
       "    }\n",
       "</style>\n",
       "<table border=\"1\" class=\"dataframe\">\n",
       "  <thead>\n",
       "    <tr style=\"text-align: right;\">\n",
       "      <th></th>\n",
       "      <th>0</th>\n",
       "      <th>1</th>\n",
       "      <th>2</th>\n",
       "    </tr>\n",
       "  </thead>\n",
       "  <tbody>\n",
       "    <tr>\n",
       "      <th>0</th>\n",
       "      <td>1</td>\n",
       "      <td>2.0</td>\n",
       "      <td>NaN</td>\n",
       "    </tr>\n",
       "    <tr>\n",
       "      <th>1</th>\n",
       "      <td>10</td>\n",
       "      <td>NaN</td>\n",
       "      <td>30.0</td>\n",
       "    </tr>\n",
       "    <tr>\n",
       "      <th>2</th>\n",
       "      <td>7</td>\n",
       "      <td>8.0</td>\n",
       "      <td>NaN</td>\n",
       "    </tr>\n",
       "  </tbody>\n",
       "</table>\n",
       "</div>"
      ],
      "text/plain": [
       "    0    1     2\n",
       "0   1  2.0   NaN\n",
       "1  10  NaN  30.0\n",
       "2   7  8.0   NaN"
      ]
     },
     "execution_count": 45,
     "metadata": {},
     "output_type": "execute_result"
    }
   ],
   "source": [
    "c1"
   ]
  },
  {
   "cell_type": "code",
   "execution_count": 46,
   "id": "bb7163ca-50af-4191-b8fc-441b9233922d",
   "metadata": {},
   "outputs": [],
   "source": [
    "c2=pd.DataFrame([[1],[10,np.nan,30],[7,8]])"
   ]
  },
  {
   "cell_type": "code",
   "execution_count": 47,
   "id": "dad63f4d-d387-402f-8659-ac352018cf4e",
   "metadata": {},
   "outputs": [
    {
     "data": {
      "text/html": [
       "<div>\n",
       "<style scoped>\n",
       "    .dataframe tbody tr th:only-of-type {\n",
       "        vertical-align: middle;\n",
       "    }\n",
       "\n",
       "    .dataframe tbody tr th {\n",
       "        vertical-align: top;\n",
       "    }\n",
       "\n",
       "    .dataframe thead th {\n",
       "        text-align: right;\n",
       "    }\n",
       "</style>\n",
       "<table border=\"1\" class=\"dataframe\">\n",
       "  <thead>\n",
       "    <tr style=\"text-align: right;\">\n",
       "      <th></th>\n",
       "      <th>0</th>\n",
       "      <th>1</th>\n",
       "      <th>2</th>\n",
       "    </tr>\n",
       "  </thead>\n",
       "  <tbody>\n",
       "    <tr>\n",
       "      <th>0</th>\n",
       "      <td>1</td>\n",
       "      <td>NaN</td>\n",
       "      <td>NaN</td>\n",
       "    </tr>\n",
       "    <tr>\n",
       "      <th>1</th>\n",
       "      <td>10</td>\n",
       "      <td>NaN</td>\n",
       "      <td>30.0</td>\n",
       "    </tr>\n",
       "    <tr>\n",
       "      <th>2</th>\n",
       "      <td>7</td>\n",
       "      <td>8.0</td>\n",
       "      <td>NaN</td>\n",
       "    </tr>\n",
       "  </tbody>\n",
       "</table>\n",
       "</div>"
      ],
      "text/plain": [
       "    0    1     2\n",
       "0   1  NaN   NaN\n",
       "1  10  NaN  30.0\n",
       "2   7  8.0   NaN"
      ]
     },
     "execution_count": 47,
     "metadata": {},
     "output_type": "execute_result"
    }
   ],
   "source": [
    "c2"
   ]
  },
  {
   "cell_type": "code",
   "execution_count": 48,
   "id": "fbcc0cf9-67ca-448e-bd91-8733dc9de752",
   "metadata": {},
   "outputs": [],
   "source": [
    "c3=pd.DataFrame([[1],[10,np.nan,30],[7,8]],columns=['colA','colB','colC'])"
   ]
  },
  {
   "cell_type": "code",
   "execution_count": 49,
   "id": "4c2e2554-d276-4f7c-9aca-f68860733042",
   "metadata": {},
   "outputs": [
    {
     "data": {
      "text/html": [
       "<div>\n",
       "<style scoped>\n",
       "    .dataframe tbody tr th:only-of-type {\n",
       "        vertical-align: middle;\n",
       "    }\n",
       "\n",
       "    .dataframe tbody tr th {\n",
       "        vertical-align: top;\n",
       "    }\n",
       "\n",
       "    .dataframe thead th {\n",
       "        text-align: right;\n",
       "    }\n",
       "</style>\n",
       "<table border=\"1\" class=\"dataframe\">\n",
       "  <thead>\n",
       "    <tr style=\"text-align: right;\">\n",
       "      <th></th>\n",
       "      <th>colA</th>\n",
       "      <th>colB</th>\n",
       "      <th>colC</th>\n",
       "    </tr>\n",
       "  </thead>\n",
       "  <tbody>\n",
       "    <tr>\n",
       "      <th>0</th>\n",
       "      <td>1</td>\n",
       "      <td>NaN</td>\n",
       "      <td>NaN</td>\n",
       "    </tr>\n",
       "    <tr>\n",
       "      <th>1</th>\n",
       "      <td>10</td>\n",
       "      <td>NaN</td>\n",
       "      <td>30.0</td>\n",
       "    </tr>\n",
       "    <tr>\n",
       "      <th>2</th>\n",
       "      <td>7</td>\n",
       "      <td>8.0</td>\n",
       "      <td>NaN</td>\n",
       "    </tr>\n",
       "  </tbody>\n",
       "</table>\n",
       "</div>"
      ],
      "text/plain": [
       "   colA  colB  colC\n",
       "0     1   NaN   NaN\n",
       "1    10   NaN  30.0\n",
       "2     7   8.0   NaN"
      ]
     },
     "execution_count": 49,
     "metadata": {},
     "output_type": "execute_result"
    }
   ],
   "source": [
    "c3 "
   ]
  },
  {
   "cell_type": "code",
   "execution_count": 50,
   "id": "e91e4026-28bc-40da-a32b-c44c6efbfcdf",
   "metadata": {},
   "outputs": [
    {
     "data": {
      "text/html": [
       "<div>\n",
       "<style scoped>\n",
       "    .dataframe tbody tr th:only-of-type {\n",
       "        vertical-align: middle;\n",
       "    }\n",
       "\n",
       "    .dataframe tbody tr th {\n",
       "        vertical-align: top;\n",
       "    }\n",
       "\n",
       "    .dataframe thead th {\n",
       "        text-align: right;\n",
       "    }\n",
       "</style>\n",
       "<table border=\"1\" class=\"dataframe\">\n",
       "  <thead>\n",
       "    <tr style=\"text-align: right;\">\n",
       "      <th></th>\n",
       "      <th>colB</th>\n",
       "      <th>colC</th>\n",
       "    </tr>\n",
       "  </thead>\n",
       "  <tbody>\n",
       "    <tr>\n",
       "      <th>0</th>\n",
       "      <td>NaN</td>\n",
       "      <td>NaN</td>\n",
       "    </tr>\n",
       "    <tr>\n",
       "      <th>1</th>\n",
       "      <td>NaN</td>\n",
       "      <td>30.0</td>\n",
       "    </tr>\n",
       "    <tr>\n",
       "      <th>2</th>\n",
       "      <td>8.0</td>\n",
       "      <td>NaN</td>\n",
       "    </tr>\n",
       "  </tbody>\n",
       "</table>\n",
       "</div>"
      ],
      "text/plain": [
       "   colB  colC\n",
       "0   NaN   NaN\n",
       "1   NaN  30.0\n",
       "2   8.0   NaN"
      ]
     },
     "execution_count": 50,
     "metadata": {},
     "output_type": "execute_result"
    }
   ],
   "source": [
    "c3[['colB','colC']]"
   ]
  },
  {
   "cell_type": "code",
   "execution_count": 51,
   "id": "e727e51a-85fc-4b75-a6e4-cf0124c4431b",
   "metadata": {},
   "outputs": [
    {
     "data": {
      "text/html": [
       "<div>\n",
       "<style scoped>\n",
       "    .dataframe tbody tr th:only-of-type {\n",
       "        vertical-align: middle;\n",
       "    }\n",
       "\n",
       "    .dataframe tbody tr th {\n",
       "        vertical-align: top;\n",
       "    }\n",
       "\n",
       "    .dataframe thead th {\n",
       "        text-align: right;\n",
       "    }\n",
       "</style>\n",
       "<table border=\"1\" class=\"dataframe\">\n",
       "  <thead>\n",
       "    <tr style=\"text-align: right;\">\n",
       "      <th></th>\n",
       "      <th>colB</th>\n",
       "      <th>colC</th>\n",
       "    </tr>\n",
       "  </thead>\n",
       "  <tbody>\n",
       "    <tr>\n",
       "      <th>0</th>\n",
       "      <td>NaN</td>\n",
       "      <td>NaN</td>\n",
       "    </tr>\n",
       "    <tr>\n",
       "      <th>1</th>\n",
       "      <td>NaN</td>\n",
       "      <td>30.0</td>\n",
       "    </tr>\n",
       "    <tr>\n",
       "      <th>2</th>\n",
       "      <td>8.0</td>\n",
       "      <td>NaN</td>\n",
       "    </tr>\n",
       "  </tbody>\n",
       "</table>\n",
       "</div>"
      ],
      "text/plain": [
       "   colB  colC\n",
       "0   NaN   NaN\n",
       "1   NaN  30.0\n",
       "2   8.0   NaN"
      ]
     },
     "execution_count": 51,
     "metadata": {},
     "output_type": "execute_result"
    }
   ],
   "source": [
    "c3[['colB','colC']].head(3)"
   ]
  },
  {
   "cell_type": "code",
   "execution_count": 52,
   "id": "7b5d154c-e8b0-42a0-9785-5b566a3187d5",
   "metadata": {},
   "outputs": [
    {
     "data": {
      "text/html": [
       "<div>\n",
       "<style scoped>\n",
       "    .dataframe tbody tr th:only-of-type {\n",
       "        vertical-align: middle;\n",
       "    }\n",
       "\n",
       "    .dataframe tbody tr th {\n",
       "        vertical-align: top;\n",
       "    }\n",
       "\n",
       "    .dataframe thead th {\n",
       "        text-align: right;\n",
       "    }\n",
       "</style>\n",
       "<table border=\"1\" class=\"dataframe\">\n",
       "  <thead>\n",
       "    <tr style=\"text-align: right;\">\n",
       "      <th></th>\n",
       "      <th>colB</th>\n",
       "      <th>colC</th>\n",
       "    </tr>\n",
       "  </thead>\n",
       "  <tbody>\n",
       "    <tr>\n",
       "      <th>1</th>\n",
       "      <td>NaN</td>\n",
       "      <td>30.0</td>\n",
       "    </tr>\n",
       "    <tr>\n",
       "      <th>2</th>\n",
       "      <td>8.0</td>\n",
       "      <td>NaN</td>\n",
       "    </tr>\n",
       "  </tbody>\n",
       "</table>\n",
       "</div>"
      ],
      "text/plain": [
       "   colB  colC\n",
       "1   NaN  30.0\n",
       "2   8.0   NaN"
      ]
     },
     "execution_count": 52,
     "metadata": {},
     "output_type": "execute_result"
    }
   ],
   "source": [
    "c3[['colB','colC']][1:4]"
   ]
  },
  {
   "cell_type": "code",
   "execution_count": 53,
   "id": "34167031-7315-4cba-a91c-598ebca72596",
   "metadata": {},
   "outputs": [
    {
     "data": {
      "text/plain": [
       "(3, 3)"
      ]
     },
     "execution_count": 53,
     "metadata": {},
     "output_type": "execute_result"
    }
   ],
   "source": [
    "c3.shape"
   ]
  },
  {
   "cell_type": "code",
   "execution_count": 54,
   "id": "d1f7531c-d556-4f0d-82fb-3aa35da8be56",
   "metadata": {},
   "outputs": [
    {
     "data": {
      "text/plain": [
       "colA    10\n",
       "dtype: int64"
      ]
     },
     "execution_count": 54,
     "metadata": {},
     "output_type": "execute_result"
    }
   ],
   "source": [
    "c3[['colA']].max()"
   ]
  },
  {
   "cell_type": "code",
   "execution_count": 55,
   "id": "e3e62278-b666-4c3e-a0fc-bccbf12cfca5",
   "metadata": {},
   "outputs": [],
   "source": [
    "c3['New_Col']=[12,45,55]"
   ]
  },
  {
   "cell_type": "code",
   "execution_count": 56,
   "id": "7e0ca5d0-79ec-497a-9bcc-878863aaae87",
   "metadata": {},
   "outputs": [
    {
     "data": {
      "text/html": [
       "<div>\n",
       "<style scoped>\n",
       "    .dataframe tbody tr th:only-of-type {\n",
       "        vertical-align: middle;\n",
       "    }\n",
       "\n",
       "    .dataframe tbody tr th {\n",
       "        vertical-align: top;\n",
       "    }\n",
       "\n",
       "    .dataframe thead th {\n",
       "        text-align: right;\n",
       "    }\n",
       "</style>\n",
       "<table border=\"1\" class=\"dataframe\">\n",
       "  <thead>\n",
       "    <tr style=\"text-align: right;\">\n",
       "      <th></th>\n",
       "      <th>colA</th>\n",
       "      <th>colB</th>\n",
       "      <th>colC</th>\n",
       "      <th>New_Col</th>\n",
       "    </tr>\n",
       "  </thead>\n",
       "  <tbody>\n",
       "    <tr>\n",
       "      <th>0</th>\n",
       "      <td>1</td>\n",
       "      <td>NaN</td>\n",
       "      <td>NaN</td>\n",
       "      <td>12</td>\n",
       "    </tr>\n",
       "    <tr>\n",
       "      <th>1</th>\n",
       "      <td>10</td>\n",
       "      <td>NaN</td>\n",
       "      <td>30.0</td>\n",
       "      <td>45</td>\n",
       "    </tr>\n",
       "    <tr>\n",
       "      <th>2</th>\n",
       "      <td>7</td>\n",
       "      <td>8.0</td>\n",
       "      <td>NaN</td>\n",
       "      <td>55</td>\n",
       "    </tr>\n",
       "  </tbody>\n",
       "</table>\n",
       "</div>"
      ],
      "text/plain": [
       "   colA  colB  colC  New_Col\n",
       "0     1   NaN   NaN       12\n",
       "1    10   NaN  30.0       45\n",
       "2     7   8.0   NaN       55"
      ]
     },
     "execution_count": 56,
     "metadata": {},
     "output_type": "execute_result"
    }
   ],
   "source": [
    "c3"
   ]
  },
  {
   "cell_type": "code",
   "execution_count": 57,
   "id": "62a29e6f-ec92-4129-b47d-c99e5952ee61",
   "metadata": {},
   "outputs": [],
   "source": [
    "c3['New_Col2']=[122,425,525]"
   ]
  },
  {
   "cell_type": "code",
   "execution_count": 58,
   "id": "da45a49d-6d61-4f1b-8a9b-0cd8a7878077",
   "metadata": {},
   "outputs": [
    {
     "data": {
      "text/html": [
       "<div>\n",
       "<style scoped>\n",
       "    .dataframe tbody tr th:only-of-type {\n",
       "        vertical-align: middle;\n",
       "    }\n",
       "\n",
       "    .dataframe tbody tr th {\n",
       "        vertical-align: top;\n",
       "    }\n",
       "\n",
       "    .dataframe thead th {\n",
       "        text-align: right;\n",
       "    }\n",
       "</style>\n",
       "<table border=\"1\" class=\"dataframe\">\n",
       "  <thead>\n",
       "    <tr style=\"text-align: right;\">\n",
       "      <th></th>\n",
       "      <th>colA</th>\n",
       "      <th>colB</th>\n",
       "      <th>colC</th>\n",
       "      <th>New_Col</th>\n",
       "      <th>New_Col2</th>\n",
       "    </tr>\n",
       "  </thead>\n",
       "  <tbody>\n",
       "    <tr>\n",
       "      <th>0</th>\n",
       "      <td>1</td>\n",
       "      <td>NaN</td>\n",
       "      <td>NaN</td>\n",
       "      <td>12</td>\n",
       "      <td>122</td>\n",
       "    </tr>\n",
       "    <tr>\n",
       "      <th>1</th>\n",
       "      <td>10</td>\n",
       "      <td>NaN</td>\n",
       "      <td>30.0</td>\n",
       "      <td>45</td>\n",
       "      <td>425</td>\n",
       "    </tr>\n",
       "    <tr>\n",
       "      <th>2</th>\n",
       "      <td>7</td>\n",
       "      <td>8.0</td>\n",
       "      <td>NaN</td>\n",
       "      <td>55</td>\n",
       "      <td>525</td>\n",
       "    </tr>\n",
       "  </tbody>\n",
       "</table>\n",
       "</div>"
      ],
      "text/plain": [
       "   colA  colB  colC  New_Col  New_Col2\n",
       "0     1   NaN   NaN       12       122\n",
       "1    10   NaN  30.0       45       425\n",
       "2     7   8.0   NaN       55       525"
      ]
     },
     "execution_count": 58,
     "metadata": {},
     "output_type": "execute_result"
    }
   ],
   "source": [
    "c3"
   ]
  },
  {
   "cell_type": "markdown",
   "id": "5bd77a7c-b105-42ff-9984-991cf1a5d546",
   "metadata": {},
   "source": [
    "* for displaying the values greater than a particular number\n"
   ]
  },
  {
   "cell_type": "code",
   "execution_count": 59,
   "id": "d9c013c1-d131-40ce-94ec-5a2f5c51fdea",
   "metadata": {},
   "outputs": [
    {
     "data": {
      "text/html": [
       "<div>\n",
       "<style scoped>\n",
       "    .dataframe tbody tr th:only-of-type {\n",
       "        vertical-align: middle;\n",
       "    }\n",
       "\n",
       "    .dataframe tbody tr th {\n",
       "        vertical-align: top;\n",
       "    }\n",
       "\n",
       "    .dataframe thead th {\n",
       "        text-align: right;\n",
       "    }\n",
       "</style>\n",
       "<table border=\"1\" class=\"dataframe\">\n",
       "  <thead>\n",
       "    <tr style=\"text-align: right;\">\n",
       "      <th></th>\n",
       "      <th>colA</th>\n",
       "      <th>colB</th>\n",
       "      <th>colC</th>\n",
       "      <th>New_Col</th>\n",
       "      <th>New_Col2</th>\n",
       "    </tr>\n",
       "  </thead>\n",
       "  <tbody>\n",
       "    <tr>\n",
       "      <th>2</th>\n",
       "      <td>7</td>\n",
       "      <td>8.0</td>\n",
       "      <td>NaN</td>\n",
       "      <td>55</td>\n",
       "      <td>525</td>\n",
       "    </tr>\n",
       "  </tbody>\n",
       "</table>\n",
       "</div>"
      ],
      "text/plain": [
       "   colA  colB  colC  New_Col  New_Col2\n",
       "2     7   8.0   NaN       55       525"
      ]
     },
     "execution_count": 59,
     "metadata": {},
     "output_type": "execute_result"
    }
   ],
   "source": [
    "c4=c3['New_Col2']>500\n",
    "c3[c4]"
   ]
  },
  {
   "cell_type": "markdown",
   "id": "f29d0350-94d8-4f8a-bb59-cdd9d6ec9710",
   "metadata": {},
   "source": [
    "* For sum of two particular columns and adding another column for sum"
   ]
  },
  {
   "cell_type": "code",
   "execution_count": 60,
   "id": "f299a553-919e-4684-88d4-f144bee7194d",
   "metadata": {},
   "outputs": [],
   "source": [
    "c3['colE']=c3['New_Col']+c3['New_Col2']"
   ]
  },
  {
   "cell_type": "code",
   "execution_count": 61,
   "id": "3846ef04-3bfd-471a-8db6-268b7074e739",
   "metadata": {},
   "outputs": [
    {
     "data": {
      "text/html": [
       "<div>\n",
       "<style scoped>\n",
       "    .dataframe tbody tr th:only-of-type {\n",
       "        vertical-align: middle;\n",
       "    }\n",
       "\n",
       "    .dataframe tbody tr th {\n",
       "        vertical-align: top;\n",
       "    }\n",
       "\n",
       "    .dataframe thead th {\n",
       "        text-align: right;\n",
       "    }\n",
       "</style>\n",
       "<table border=\"1\" class=\"dataframe\">\n",
       "  <thead>\n",
       "    <tr style=\"text-align: right;\">\n",
       "      <th></th>\n",
       "      <th>colA</th>\n",
       "      <th>colB</th>\n",
       "      <th>colC</th>\n",
       "      <th>New_Col</th>\n",
       "      <th>New_Col2</th>\n",
       "      <th>colE</th>\n",
       "    </tr>\n",
       "  </thead>\n",
       "  <tbody>\n",
       "    <tr>\n",
       "      <th>0</th>\n",
       "      <td>1</td>\n",
       "      <td>NaN</td>\n",
       "      <td>NaN</td>\n",
       "      <td>12</td>\n",
       "      <td>122</td>\n",
       "      <td>134</td>\n",
       "    </tr>\n",
       "    <tr>\n",
       "      <th>1</th>\n",
       "      <td>10</td>\n",
       "      <td>NaN</td>\n",
       "      <td>30.0</td>\n",
       "      <td>45</td>\n",
       "      <td>425</td>\n",
       "      <td>470</td>\n",
       "    </tr>\n",
       "    <tr>\n",
       "      <th>2</th>\n",
       "      <td>7</td>\n",
       "      <td>8.0</td>\n",
       "      <td>NaN</td>\n",
       "      <td>55</td>\n",
       "      <td>525</td>\n",
       "      <td>580</td>\n",
       "    </tr>\n",
       "  </tbody>\n",
       "</table>\n",
       "</div>"
      ],
      "text/plain": [
       "   colA  colB  colC  New_Col  New_Col2  colE\n",
       "0     1   NaN   NaN       12       122   134\n",
       "1    10   NaN  30.0       45       425   470\n",
       "2     7   8.0   NaN       55       525   580"
      ]
     },
     "execution_count": 61,
     "metadata": {},
     "output_type": "execute_result"
    }
   ],
   "source": [
    "c3"
   ]
  },
  {
   "cell_type": "markdown",
   "id": "63335453-a9ad-412f-857a-d40e5f6b2ec6",
   "metadata": {},
   "source": [
    "### Day 10,11"
   ]
  },
  {
   "cell_type": "code",
   "execution_count": 62,
   "id": "df1fb72d-8a20-4753-99a9-5dd69646ff1d",
   "metadata": {},
   "outputs": [
    {
     "ename": "EmptyDataError",
     "evalue": "No columns to parse from file",
     "output_type": "error",
     "traceback": [
      "\u001b[1;31m---------------------------------------------------------------------------\u001b[0m",
      "\u001b[1;31mStopIteration\u001b[0m                             Traceback (most recent call last)",
      "File \u001b[1;32m~\\anaconda3\\lib\\site-packages\\pandas\\io\\parsers\\python_parser.py:364\u001b[0m, in \u001b[0;36mPythonParser._infer_columns\u001b[1;34m(self)\u001b[0m\n\u001b[0;32m    363\u001b[0m \u001b[38;5;28;01mtry\u001b[39;00m:\n\u001b[1;32m--> 364\u001b[0m     line \u001b[38;5;241m=\u001b[39m \u001b[38;5;28;43mself\u001b[39;49m\u001b[38;5;241;43m.\u001b[39;49m\u001b[43m_buffered_line\u001b[49m\u001b[43m(\u001b[49m\u001b[43m)\u001b[49m\n\u001b[0;32m    366\u001b[0m     \u001b[38;5;28;01mwhile\u001b[39;00m \u001b[38;5;28mself\u001b[39m\u001b[38;5;241m.\u001b[39mline_pos \u001b[38;5;241m<\u001b[39m\u001b[38;5;241m=\u001b[39m hr:\n",
      "File \u001b[1;32m~\\anaconda3\\lib\\site-packages\\pandas\\io\\parsers\\python_parser.py:596\u001b[0m, in \u001b[0;36mPythonParser._buffered_line\u001b[1;34m(self)\u001b[0m\n\u001b[0;32m    595\u001b[0m \u001b[38;5;28;01melse\u001b[39;00m:\n\u001b[1;32m--> 596\u001b[0m     \u001b[38;5;28;01mreturn\u001b[39;00m \u001b[38;5;28;43mself\u001b[39;49m\u001b[38;5;241;43m.\u001b[39;49m\u001b[43m_next_line\u001b[49m\u001b[43m(\u001b[49m\u001b[43m)\u001b[49m\n",
      "File \u001b[1;32m~\\anaconda3\\lib\\site-packages\\pandas\\io\\parsers\\python_parser.py:696\u001b[0m, in \u001b[0;36mPythonParser._next_line\u001b[1;34m(self)\u001b[0m\n\u001b[0;32m    695\u001b[0m \u001b[38;5;28;01mwhile\u001b[39;00m \u001b[38;5;28;01mTrue\u001b[39;00m:\n\u001b[1;32m--> 696\u001b[0m     orig_line \u001b[38;5;241m=\u001b[39m \u001b[38;5;28;43mself\u001b[39;49m\u001b[38;5;241;43m.\u001b[39;49m\u001b[43m_next_iter_line\u001b[49m\u001b[43m(\u001b[49m\u001b[43mrow_num\u001b[49m\u001b[38;5;241;43m=\u001b[39;49m\u001b[38;5;28;43mself\u001b[39;49m\u001b[38;5;241;43m.\u001b[39;49m\u001b[43mpos\u001b[49m\u001b[43m \u001b[49m\u001b[38;5;241;43m+\u001b[39;49m\u001b[43m \u001b[49m\u001b[38;5;241;43m1\u001b[39;49m\u001b[43m)\u001b[49m\n\u001b[0;32m    697\u001b[0m     \u001b[38;5;28mself\u001b[39m\u001b[38;5;241m.\u001b[39mpos \u001b[38;5;241m+\u001b[39m\u001b[38;5;241m=\u001b[39m \u001b[38;5;241m1\u001b[39m\n",
      "File \u001b[1;32m~\\anaconda3\\lib\\site-packages\\pandas\\io\\parsers\\python_parser.py:760\u001b[0m, in \u001b[0;36mPythonParser._next_iter_line\u001b[1;34m(self, row_num)\u001b[0m\n\u001b[0;32m    759\u001b[0m \u001b[38;5;28;01massert\u001b[39;00m \u001b[38;5;28mself\u001b[39m\u001b[38;5;241m.\u001b[39mdata \u001b[38;5;129;01mis\u001b[39;00m \u001b[38;5;129;01mnot\u001b[39;00m \u001b[38;5;28;01mNone\u001b[39;00m\n\u001b[1;32m--> 760\u001b[0m line \u001b[38;5;241m=\u001b[39m \u001b[38;5;28;43mnext\u001b[39;49m\u001b[43m(\u001b[49m\u001b[38;5;28;43mself\u001b[39;49m\u001b[38;5;241;43m.\u001b[39;49m\u001b[43mdata\u001b[49m\u001b[43m)\u001b[49m\n\u001b[0;32m    761\u001b[0m \u001b[38;5;66;03m# for mypy\u001b[39;00m\n",
      "\u001b[1;31mStopIteration\u001b[0m: ",
      "\nThe above exception was the direct cause of the following exception:\n",
      "\u001b[1;31mEmptyDataError\u001b[0m                            Traceback (most recent call last)",
      "Input \u001b[1;32mIn [62]\u001b[0m, in \u001b[0;36m<cell line: 1>\u001b[1;34m()\u001b[0m\n\u001b[1;32m----> 1\u001b[0m movies\u001b[38;5;241m=\u001b[39m\u001b[43mpd\u001b[49m\u001b[38;5;241;43m.\u001b[39;49m\u001b[43mread_clipboard\u001b[49m\u001b[43m(\u001b[49m\u001b[43m)\u001b[49m\n",
      "File \u001b[1;32m~\\anaconda3\\lib\\site-packages\\pandas\\io\\clipboards.py:85\u001b[0m, in \u001b[0;36mread_clipboard\u001b[1;34m(sep, **kwargs)\u001b[0m\n\u001b[0;32m     80\u001b[0m \u001b[38;5;28;01melif\u001b[39;00m \u001b[38;5;28mlen\u001b[39m(sep) \u001b[38;5;241m>\u001b[39m \u001b[38;5;241m1\u001b[39m \u001b[38;5;129;01mand\u001b[39;00m kwargs\u001b[38;5;241m.\u001b[39mget(\u001b[38;5;124m\"\u001b[39m\u001b[38;5;124mengine\u001b[39m\u001b[38;5;124m\"\u001b[39m) \u001b[38;5;241m==\u001b[39m \u001b[38;5;124m\"\u001b[39m\u001b[38;5;124mc\u001b[39m\u001b[38;5;124m\"\u001b[39m:\n\u001b[0;32m     81\u001b[0m     warnings\u001b[38;5;241m.\u001b[39mwarn(\n\u001b[0;32m     82\u001b[0m         \u001b[38;5;124m\"\u001b[39m\u001b[38;5;124mread_clipboard with regex separator does not work properly with c engine.\u001b[39m\u001b[38;5;124m\"\u001b[39m\n\u001b[0;32m     83\u001b[0m     )\n\u001b[1;32m---> 85\u001b[0m \u001b[38;5;28;01mreturn\u001b[39;00m read_csv(StringIO(text), sep\u001b[38;5;241m=\u001b[39msep, \u001b[38;5;241m*\u001b[39m\u001b[38;5;241m*\u001b[39mkwargs)\n",
      "File \u001b[1;32m~\\anaconda3\\lib\\site-packages\\pandas\\util\\_decorators.py:311\u001b[0m, in \u001b[0;36mdeprecate_nonkeyword_arguments.<locals>.decorate.<locals>.wrapper\u001b[1;34m(*args, **kwargs)\u001b[0m\n\u001b[0;32m    305\u001b[0m \u001b[38;5;28;01mif\u001b[39;00m \u001b[38;5;28mlen\u001b[39m(args) \u001b[38;5;241m>\u001b[39m num_allow_args:\n\u001b[0;32m    306\u001b[0m     warnings\u001b[38;5;241m.\u001b[39mwarn(\n\u001b[0;32m    307\u001b[0m         msg\u001b[38;5;241m.\u001b[39mformat(arguments\u001b[38;5;241m=\u001b[39marguments),\n\u001b[0;32m    308\u001b[0m         \u001b[38;5;167;01mFutureWarning\u001b[39;00m,\n\u001b[0;32m    309\u001b[0m         stacklevel\u001b[38;5;241m=\u001b[39mstacklevel,\n\u001b[0;32m    310\u001b[0m     )\n\u001b[1;32m--> 311\u001b[0m \u001b[38;5;28;01mreturn\u001b[39;00m func(\u001b[38;5;241m*\u001b[39margs, \u001b[38;5;241m*\u001b[39m\u001b[38;5;241m*\u001b[39mkwargs)\n",
      "File \u001b[1;32m~\\anaconda3\\lib\\site-packages\\pandas\\io\\parsers\\readers.py:680\u001b[0m, in \u001b[0;36mread_csv\u001b[1;34m(filepath_or_buffer, sep, delimiter, header, names, index_col, usecols, squeeze, prefix, mangle_dupe_cols, dtype, engine, converters, true_values, false_values, skipinitialspace, skiprows, skipfooter, nrows, na_values, keep_default_na, na_filter, verbose, skip_blank_lines, parse_dates, infer_datetime_format, keep_date_col, date_parser, dayfirst, cache_dates, iterator, chunksize, compression, thousands, decimal, lineterminator, quotechar, quoting, doublequote, escapechar, comment, encoding, encoding_errors, dialect, error_bad_lines, warn_bad_lines, on_bad_lines, delim_whitespace, low_memory, memory_map, float_precision, storage_options)\u001b[0m\n\u001b[0;32m    665\u001b[0m kwds_defaults \u001b[38;5;241m=\u001b[39m _refine_defaults_read(\n\u001b[0;32m    666\u001b[0m     dialect,\n\u001b[0;32m    667\u001b[0m     delimiter,\n\u001b[1;32m   (...)\u001b[0m\n\u001b[0;32m    676\u001b[0m     defaults\u001b[38;5;241m=\u001b[39m{\u001b[38;5;124m\"\u001b[39m\u001b[38;5;124mdelimiter\u001b[39m\u001b[38;5;124m\"\u001b[39m: \u001b[38;5;124m\"\u001b[39m\u001b[38;5;124m,\u001b[39m\u001b[38;5;124m\"\u001b[39m},\n\u001b[0;32m    677\u001b[0m )\n\u001b[0;32m    678\u001b[0m kwds\u001b[38;5;241m.\u001b[39mupdate(kwds_defaults)\n\u001b[1;32m--> 680\u001b[0m \u001b[38;5;28;01mreturn\u001b[39;00m \u001b[43m_read\u001b[49m\u001b[43m(\u001b[49m\u001b[43mfilepath_or_buffer\u001b[49m\u001b[43m,\u001b[49m\u001b[43m \u001b[49m\u001b[43mkwds\u001b[49m\u001b[43m)\u001b[49m\n",
      "File \u001b[1;32m~\\anaconda3\\lib\\site-packages\\pandas\\io\\parsers\\readers.py:575\u001b[0m, in \u001b[0;36m_read\u001b[1;34m(filepath_or_buffer, kwds)\u001b[0m\n\u001b[0;32m    572\u001b[0m _validate_names(kwds\u001b[38;5;241m.\u001b[39mget(\u001b[38;5;124m\"\u001b[39m\u001b[38;5;124mnames\u001b[39m\u001b[38;5;124m\"\u001b[39m, \u001b[38;5;28;01mNone\u001b[39;00m))\n\u001b[0;32m    574\u001b[0m \u001b[38;5;66;03m# Create the parser.\u001b[39;00m\n\u001b[1;32m--> 575\u001b[0m parser \u001b[38;5;241m=\u001b[39m TextFileReader(filepath_or_buffer, \u001b[38;5;241m*\u001b[39m\u001b[38;5;241m*\u001b[39mkwds)\n\u001b[0;32m    577\u001b[0m \u001b[38;5;28;01mif\u001b[39;00m chunksize \u001b[38;5;129;01mor\u001b[39;00m iterator:\n\u001b[0;32m    578\u001b[0m     \u001b[38;5;28;01mreturn\u001b[39;00m parser\n",
      "File \u001b[1;32m~\\anaconda3\\lib\\site-packages\\pandas\\io\\parsers\\readers.py:933\u001b[0m, in \u001b[0;36mTextFileReader.__init__\u001b[1;34m(self, f, engine, **kwds)\u001b[0m\n\u001b[0;32m    930\u001b[0m     \u001b[38;5;28mself\u001b[39m\u001b[38;5;241m.\u001b[39moptions[\u001b[38;5;124m\"\u001b[39m\u001b[38;5;124mhas_index_names\u001b[39m\u001b[38;5;124m\"\u001b[39m] \u001b[38;5;241m=\u001b[39m kwds[\u001b[38;5;124m\"\u001b[39m\u001b[38;5;124mhas_index_names\u001b[39m\u001b[38;5;124m\"\u001b[39m]\n\u001b[0;32m    932\u001b[0m \u001b[38;5;28mself\u001b[39m\u001b[38;5;241m.\u001b[39mhandles: IOHandles \u001b[38;5;241m|\u001b[39m \u001b[38;5;28;01mNone\u001b[39;00m \u001b[38;5;241m=\u001b[39m \u001b[38;5;28;01mNone\u001b[39;00m\n\u001b[1;32m--> 933\u001b[0m \u001b[38;5;28mself\u001b[39m\u001b[38;5;241m.\u001b[39m_engine \u001b[38;5;241m=\u001b[39m \u001b[38;5;28;43mself\u001b[39;49m\u001b[38;5;241;43m.\u001b[39;49m\u001b[43m_make_engine\u001b[49m\u001b[43m(\u001b[49m\u001b[43mf\u001b[49m\u001b[43m,\u001b[49m\u001b[43m \u001b[49m\u001b[38;5;28;43mself\u001b[39;49m\u001b[38;5;241;43m.\u001b[39;49m\u001b[43mengine\u001b[49m\u001b[43m)\u001b[49m\n",
      "File \u001b[1;32m~\\anaconda3\\lib\\site-packages\\pandas\\io\\parsers\\readers.py:1235\u001b[0m, in \u001b[0;36mTextFileReader._make_engine\u001b[1;34m(self, f, engine)\u001b[0m\n\u001b[0;32m   1232\u001b[0m     \u001b[38;5;28;01mraise\u001b[39;00m \u001b[38;5;167;01mValueError\u001b[39;00m(msg)\n\u001b[0;32m   1234\u001b[0m \u001b[38;5;28;01mtry\u001b[39;00m:\n\u001b[1;32m-> 1235\u001b[0m     \u001b[38;5;28;01mreturn\u001b[39;00m mapping[engine](f, \u001b[38;5;241m*\u001b[39m\u001b[38;5;241m*\u001b[39m\u001b[38;5;28mself\u001b[39m\u001b[38;5;241m.\u001b[39moptions)\n\u001b[0;32m   1236\u001b[0m \u001b[38;5;28;01mexcept\u001b[39;00m \u001b[38;5;167;01mException\u001b[39;00m:\n\u001b[0;32m   1237\u001b[0m     \u001b[38;5;28;01mif\u001b[39;00m \u001b[38;5;28mself\u001b[39m\u001b[38;5;241m.\u001b[39mhandles \u001b[38;5;129;01mis\u001b[39;00m \u001b[38;5;129;01mnot\u001b[39;00m \u001b[38;5;28;01mNone\u001b[39;00m:\n",
      "File \u001b[1;32m~\\anaconda3\\lib\\site-packages\\pandas\\io\\parsers\\python_parser.py:115\u001b[0m, in \u001b[0;36mPythonParser.__init__\u001b[1;34m(self, f, **kwds)\u001b[0m\n\u001b[0;32m    109\u001b[0m \u001b[38;5;28mself\u001b[39m\u001b[38;5;241m.\u001b[39m_col_indices: \u001b[38;5;28mlist\u001b[39m[\u001b[38;5;28mint\u001b[39m] \u001b[38;5;241m|\u001b[39m \u001b[38;5;28;01mNone\u001b[39;00m \u001b[38;5;241m=\u001b[39m \u001b[38;5;28;01mNone\u001b[39;00m\n\u001b[0;32m    110\u001b[0m columns: \u001b[38;5;28mlist\u001b[39m[\u001b[38;5;28mlist\u001b[39m[Scalar \u001b[38;5;241m|\u001b[39m \u001b[38;5;28;01mNone\u001b[39;00m]]\n\u001b[0;32m    111\u001b[0m (\n\u001b[0;32m    112\u001b[0m     columns,\n\u001b[0;32m    113\u001b[0m     \u001b[38;5;28mself\u001b[39m\u001b[38;5;241m.\u001b[39mnum_original_columns,\n\u001b[0;32m    114\u001b[0m     \u001b[38;5;28mself\u001b[39m\u001b[38;5;241m.\u001b[39munnamed_cols,\n\u001b[1;32m--> 115\u001b[0m ) \u001b[38;5;241m=\u001b[39m \u001b[38;5;28;43mself\u001b[39;49m\u001b[38;5;241;43m.\u001b[39;49m\u001b[43m_infer_columns\u001b[49m\u001b[43m(\u001b[49m\u001b[43m)\u001b[49m\n\u001b[0;32m    117\u001b[0m \u001b[38;5;66;03m# Now self.columns has the set of columns that we will process.\u001b[39;00m\n\u001b[0;32m    118\u001b[0m \u001b[38;5;66;03m# The original set is stored in self.original_columns.\u001b[39;00m\n\u001b[0;32m    119\u001b[0m \u001b[38;5;66;03m# error: Cannot determine type of 'index_names'\u001b[39;00m\n\u001b[0;32m    120\u001b[0m \u001b[38;5;28mself\u001b[39m\u001b[38;5;241m.\u001b[39mcolumns: \u001b[38;5;28mlist\u001b[39m[Hashable]\n",
      "File \u001b[1;32m~\\anaconda3\\lib\\site-packages\\pandas\\io\\parsers\\python_parser.py:386\u001b[0m, in \u001b[0;36mPythonParser._infer_columns\u001b[1;34m(self)\u001b[0m\n\u001b[0;32m    383\u001b[0m         \u001b[38;5;28;01mreturn\u001b[39;00m columns, num_original_columns, unnamed_cols\n\u001b[0;32m    385\u001b[0m     \u001b[38;5;28;01mif\u001b[39;00m \u001b[38;5;129;01mnot\u001b[39;00m \u001b[38;5;28mself\u001b[39m\u001b[38;5;241m.\u001b[39mnames:\n\u001b[1;32m--> 386\u001b[0m         \u001b[38;5;28;01mraise\u001b[39;00m EmptyDataError(\u001b[38;5;124m\"\u001b[39m\u001b[38;5;124mNo columns to parse from file\u001b[39m\u001b[38;5;124m\"\u001b[39m) \u001b[38;5;28;01mfrom\u001b[39;00m \u001b[38;5;21;01merr\u001b[39;00m\n\u001b[0;32m    388\u001b[0m     line \u001b[38;5;241m=\u001b[39m \u001b[38;5;28mself\u001b[39m\u001b[38;5;241m.\u001b[39mnames[:]\n\u001b[0;32m    390\u001b[0m this_columns: \u001b[38;5;28mlist\u001b[39m[Scalar \u001b[38;5;241m|\u001b[39m \u001b[38;5;28;01mNone\u001b[39;00m] \u001b[38;5;241m=\u001b[39m []\n",
      "\u001b[1;31mEmptyDataError\u001b[0m: No columns to parse from file"
     ]
    }
   ],
   "source": [
    "movies=pd.read_clipboard()"
   ]
  },
  {
   "cell_type": "code",
   "execution_count": null,
   "id": "564aac13-756e-46d8-b409-036146532f25",
   "metadata": {},
   "outputs": [],
   "source": [
    "movies"
   ]
  },
  {
   "cell_type": "code",
   "execution_count": null,
   "id": "9f7e335a-f924-4332-bc23-b8ba7bbe4d23",
   "metadata": {},
   "outputs": [],
   "source": [
    "# index_col=INDEX will replace original indexing (whichwas automatic from 0) with the column at INDEX(which is here ID)\n",
    "movies=pd.read_csv(r'ML with python Training Day 10.csv.csv',index_col=0)"
   ]
  },
  {
   "cell_type": "code",
   "execution_count": null,
   "id": "c51cd4d9-5b6e-4448-88a2-41d149292da2",
   "metadata": {},
   "outputs": [],
   "source": [
    "movies"
   ]
  },
  {
   "cell_type": "markdown",
   "id": "3478b772-d7b7-4981-8813-7bb96feedb26",
   "metadata": {},
   "source": [
    "#### 1.Find the longest movie name"
   ]
  },
  {
   "cell_type": "code",
   "execution_count": null,
   "id": "1d8325c7-e335-41fc-9209-753972f4b0a2",
   "metadata": {},
   "outputs": [],
   "source": []
  },
  {
   "cell_type": "code",
   "execution_count": null,
   "id": "1b22158c-7be4-4cb2-a93f-dab9225e8d37",
   "metadata": {},
   "outputs": [],
   "source": [
    "movies['NAME'][movies['DURATION'].argmax()]"
   ]
  },
  {
   "cell_type": "markdown",
   "id": "fa7883f0-81a2-4f35-9f03-95cbf8b8a4e0",
   "metadata": {},
   "source": [
    "#### 2. No. of movies which got 10 ratings"
   ]
  },
  {
   "cell_type": "code",
   "execution_count": null,
   "id": "c8e9da8b-a814-40dd-91ee-d34d77e6aabc",
   "metadata": {},
   "outputs": [],
   "source": [
    "sum(movies['RATINGS']==10)"
   ]
  },
  {
   "cell_type": "markdown",
   "id": "cfae19be-2be5-4ef0-9bc1-5d663df8dc23",
   "metadata": {},
   "source": [
    "#### 3. How many industries are there"
   ]
  },
  {
   "cell_type": "code",
   "execution_count": null,
   "id": "0ecd1251-0218-4757-95aa-659e67f443f7",
   "metadata": {},
   "outputs": [],
   "source": [
    "movies['INDUSTRY'].value_counts().count()"
   ]
  },
  {
   "cell_type": "code",
   "execution_count": null,
   "id": "a42fb94d-56ea-4717-905b-e244e41972e7",
   "metadata": {},
   "outputs": [],
   "source": [
    "len(movies['INDUSTRY'].value_counts())"
   ]
  },
  {
   "cell_type": "code",
   "execution_count": null,
   "id": "f9b7dc6f-ee71-4e99-8e50-fa64613630bb",
   "metadata": {},
   "outputs": [],
   "source": [
    "movies['INDUSTRY'].nunique()"
   ]
  },
  {
   "cell_type": "markdown",
   "id": "4d0c6915-0289-48a4-9a34-b067e48d14d9",
   "metadata": {},
   "source": [
    "#### 4. Least liked comedy movie"
   ]
  },
  {
   "cell_type": "code",
   "execution_count": null,
   "id": "973ab1d1-b878-46d9-8d34-be93f1b0c3f7",
   "metadata": {},
   "outputs": [],
   "source": [
    "movies['NAME'][movies[movies['GENRE']=='Comedy']['RATINGS'].idxmin()]"
   ]
  },
  {
   "cell_type": "markdown",
   "id": "7cb2c979-beca-4466-83ac-f8e8ea7e78a5",
   "metadata": {},
   "source": [
    "#### 5. Longest english movie"
   ]
  },
  {
   "cell_type": "code",
   "execution_count": null,
   "id": "ac676473-044b-448d-9a94-4b04a16d5d93",
   "metadata": {},
   "outputs": [],
   "source": [
    "movies['NAME'][movies[movies['LANGUAGE']=='English']['DURATION'].idxmax()]"
   ]
  },
  {
   "cell_type": "markdown",
   "id": "6d1a8508-d0d4-429d-8761-d8821a1f0cda",
   "metadata": {},
   "source": [
    "#### 6. Genre of Intersteller"
   ]
  },
  {
   "cell_type": "code",
   "execution_count": null,
   "id": "82a6a037-83a2-4916-a805-d2890af65e70",
   "metadata": {},
   "outputs": [],
   "source": [
    "# .values[] change into numpy ARRAY\n",
    "movies['GENRE'][movies['NAME']=='Intersteller'].values[0]"
   ]
  },
  {
   "cell_type": "code",
   "execution_count": null,
   "id": "2211ceff-07af-4de7-bc92-d08a9130cbe0",
   "metadata": {},
   "outputs": [],
   "source": [
    "# to use string functions in series we can use . str\n",
    "movies['GENRE'][movies['NAME'].str.lower()=='Intersteller'.lower()].values[0]"
   ]
  },
  {
   "cell_type": "code",
   "execution_count": null,
   "id": "d7d45d3d-3391-47a6-b94f-62ac31f0d781",
   "metadata": {},
   "outputs": [],
   "source": [
    "names= movies['NAME']"
   ]
  },
  {
   "cell_type": "code",
   "execution_count": null,
   "id": "de78ec07-64e5-40de-b55b-a717637e3ab4",
   "metadata": {},
   "outputs": [],
   "source": [
    "names.to_list()"
   ]
  },
  {
   "cell_type": "code",
   "execution_count": null,
   "id": "f1e134d2-def5-4859-9643-7b86a57b9887",
   "metadata": {},
   "outputs": [],
   "source": [
    "names.str.get(0)"
   ]
  },
  {
   "cell_type": "markdown",
   "id": "bdca5089-0388-44c8-99b4-4041e9fe25e3",
   "metadata": {},
   "source": [
    "* get_dummies()"
   ]
  },
  {
   "cell_type": "code",
   "execution_count": null,
   "id": "4f0f6d8e-aa86-418a-b732-06040699c56a",
   "metadata": {},
   "outputs": [],
   "source": [
    "# covert string data to numeric data\n",
    "names.str.get_dummies()"
   ]
  },
  {
   "cell_type": "code",
   "execution_count": null,
   "id": "c4f92a36-5da7-42a0-ba09-04ef058df389",
   "metadata": {},
   "outputs": [],
   "source": [
    "movies['GENRE'].str.get_dummies()"
   ]
  },
  {
   "cell_type": "code",
   "execution_count": null,
   "id": "ff967e82-f37f-4d5f-87ce-b18d96c80407",
   "metadata": {},
   "outputs": [],
   "source": [
    "names.str.split('e').str.join('*')"
   ]
  },
  {
   "cell_type": "code",
   "execution_count": null,
   "id": "f7ba9fc3-c5a7-4742-ac03-0cfdf8dd291d",
   "metadata": {},
   "outputs": [],
   "source": [
    "#leading and trailing characters(especially spaces by default) can be removed\n",
    "names.str.strip()"
   ]
  },
  {
   "cell_type": "markdown",
   "id": "d9a4b22b-2c5c-4572-8619-1b3ef17979ec",
   "metadata": {},
   "source": [
    "#### 7. Avg duration of each Genre"
   ]
  },
  {
   "cell_type": "code",
   "execution_count": null,
   "id": "c14c01f9-04c5-4460-84db-e8324715c3de",
   "metadata": {},
   "outputs": [],
   "source": [
    "movies['GENRE'].unique()"
   ]
  },
  {
   "cell_type": "code",
   "execution_count": null,
   "id": "2c1d8a95-0a91-43e2-a111-5a24d48b7a0c",
   "metadata": {},
   "outputs": [],
   "source": [
    "movies['GENRE'].nunique()"
   ]
  },
  {
   "cell_type": "code",
   "execution_count": null,
   "id": "49ee7843-25e8-4ea5-8a4f-691d64a29619",
   "metadata": {},
   "outputs": [],
   "source": [
    "movies['GENRE'].value_counts()"
   ]
  },
  {
   "cell_type": "code",
   "execution_count": null,
   "id": "cd92975b-8a1c-48c9-a608-37bf70ceeaef",
   "metadata": {},
   "outputs": [],
   "source": [
    "for GENRE in movies['GENRE'].unique():\n",
    "    print(GENRE,movies[movies['GENRE']==GENRE]['DURATION'].mean())"
   ]
  },
  {
   "cell_type": "code",
   "execution_count": null,
   "id": "3e420b06-00d2-44ef-84f9-7f45bd370dfe",
   "metadata": {},
   "outputs": [],
   "source": [
    "# another method\n",
    "movies.groupby('GENRE')['DURATION'].mean()"
   ]
  },
  {
   "cell_type": "markdown",
   "id": "4f073d4a-330b-419c-aab4-0c08ab2e33ed",
   "metadata": {},
   "source": [
    "* groupby()"
   ]
  },
  {
   "cell_type": "code",
   "execution_count": null,
   "id": "51e06b9a-ae19-4034-a8c3-eb48b4c44625",
   "metadata": {},
   "outputs": [],
   "source": [
    "movies.groupby(['GENRE','INDUSTRY'])['DURATION'].mean()"
   ]
  },
  {
   "cell_type": "code",
   "execution_count": null,
   "id": "0e8f90f5-5d56-456b-9d66-32a03027bb9f",
   "metadata": {},
   "outputs": [],
   "source": [
    "# describe() will display only nemeric data\n",
    "movies.describe()"
   ]
  },
  {
   "cell_type": "code",
   "execution_count": null,
   "id": "c9eab58a-1608-4e27-8b67-c57125a89c98",
   "metadata": {},
   "outputs": [],
   "source": [
    "# inplace replaces all process done with original movies\n",
    "    #movies.drop('ID', axis=1, inplace=True)"
   ]
  },
  {
   "cell_type": "code",
   "execution_count": null,
   "id": "7f05216e-d82a-4a8c-b2e6-bf2560f08957",
   "metadata": {},
   "outputs": [],
   "source": [
    "#movies"
   ]
  },
  {
   "cell_type": "code",
   "execution_count": null,
   "id": "d075a82f-3c2f-457a-a819-f731f901af6b",
   "metadata": {},
   "outputs": [],
   "source": [
    "movies.describe(include='all')"
   ]
  },
  {
   "cell_type": "code",
   "execution_count": null,
   "id": "1cf6e9eb-a470-499b-b3d1-6cae7c254c0e",
   "metadata": {},
   "outputs": [],
   "source": [
    "# .T transposes the dataframe\n",
    "movies.groupby('INDUSTRY').describe().T"
   ]
  },
  {
   "cell_type": "code",
   "execution_count": null,
   "id": "f7d235a1-b0d7-4955-a6a5-5082b9bd9dc4",
   "metadata": {},
   "outputs": [],
   "source": [
    "movies.groupby(['INDUSTRY','GENRE']).describe().T"
   ]
  },
  {
   "cell_type": "markdown",
   "id": "41e73b78-1395-4719-896a-86f9ca9ddfb2",
   "metadata": {},
   "source": [
    "### 8. Avg. rating of each industry"
   ]
  },
  {
   "cell_type": "code",
   "execution_count": null,
   "id": "38a517e5-0767-4244-971c-9267e730b5b0",
   "metadata": {},
   "outputs": [],
   "source": [
    "movies.groupby('INDUSTRY')['RATINGS'].mean()"
   ]
  },
  {
   "cell_type": "markdown",
   "id": "05476b5a-e174-4147-9789-754aad054ff6",
   "metadata": {},
   "source": [
    "### 9. Avg rating of romantic movies industry wise"
   ]
  },
  {
   "cell_type": "code",
   "execution_count": null,
   "id": "e26e113e-6715-4433-8430-3648474ce886",
   "metadata": {},
   "outputs": [],
   "source": [
    "movies[movies['GENRE'].str.lower()=='romantic']"
   ]
  },
  {
   "cell_type": "code",
   "execution_count": null,
   "id": "df54ddf3-e6c6-40a5-a92f-38b0e2fa24ec",
   "metadata": {},
   "outputs": [],
   "source": [
    "movies[movies['GENRE'].str.lower()=='romantic'].groupby(['GENRE','INDUSTRY'])['RATINGS'].mean()"
   ]
  },
  {
   "cell_type": "markdown",
   "id": "b0f652a2-ec8c-4288-9d14-03dc64d879c4",
   "metadata": {},
   "source": [
    "### 10. List down all english movies with their respective ratings in descending order"
   ]
  },
  {
   "cell_type": "code",
   "execution_count": null,
   "id": "2796af78-f75f-4fd4-b4c7-a77a68aced85",
   "metadata": {},
   "outputs": [],
   "source": [
    "movies[movies['LANGUAGE'].str.lower()=='english'][['NAME','RATINGS']].sort_values(by='RATINGS',ascending=False)"
   ]
  },
  {
   "cell_type": "markdown",
   "id": "5486faee-b953-4cb7-9c01-a08a62177de8",
   "metadata": {},
   "source": [
    "# Day 12"
   ]
  },
  {
   "cell_type": "markdown",
   "id": "13a551e5-8b41-447f-ac31-bcf1b6d03aba",
   "metadata": {},
   "source": [
    "* 1. Pivot Table\n",
    "*2. Pandas concat\n",
    "* 3. Pandas Merge\n",
    "* 4. Pandas join"
   ]
  },
  {
   "cell_type": "code",
   "execution_count": null,
   "id": "c989307b-6508-421f-a35e-35e3aa73662d",
   "metadata": {},
   "outputs": [],
   "source": [
    "import numpy as np"
   ]
  },
  {
   "cell_type": "code",
   "execution_count": null,
   "id": "6f938972-aa03-4c5d-af7b-43d2be42b736",
   "metadata": {},
   "outputs": [],
   "source": [
    "data={'Country':['India','USA','Japan','China','India','USA'],\n",
    "      'Year':['2010','2010','2010','2015','2015','2015'],\n",
    "      'Continent':['Asia','NA','Asia','Asia','Asia','NA'],'Value':[20,10,40,50,60,55]\n",
    "     }"
   ]
  },
  {
   "cell_type": "code",
   "execution_count": null,
   "id": "585f4ea8-1055-4b9b-9c11-9993d33ecd08",
   "metadata": {},
   "outputs": [],
   "source": [
    "df=pd.DataFrame(data)"
   ]
  },
  {
   "cell_type": "code",
   "execution_count": null,
   "id": "a7aed903-f7dd-4e15-8daa-fab065289dad",
   "metadata": {},
   "outputs": [],
   "source": [
    "df"
   ]
  },
  {
   "cell_type": "code",
   "execution_count": null,
   "id": "528e3a90-3fda-426a-863c-0f64a3206301",
   "metadata": {},
   "outputs": [],
   "source": [
    "pd.pivot_table(df,index=['Year'],aggfunc='sum')"
   ]
  },
  {
   "cell_type": "code",
   "execution_count": null,
   "id": "381b609d-1d05-4c3a-baff-d011873e4681",
   "metadata": {},
   "outputs": [],
   "source": [
    "pd.pivot_table(df,index=['Continent'],aggfunc='sum')"
   ]
  },
  {
   "cell_type": "markdown",
   "id": "f06cd2a2-cb21-44d3-8ffd-aa4f58978ea5",
   "metadata": {},
   "source": [
    "### Concat(When column names are same)"
   ]
  },
  {
   "cell_type": "code",
   "execution_count": null,
   "id": "51031e8a-3f9a-4e99-96b8-8491f3cd806a",
   "metadata": {},
   "outputs": [],
   "source": [
    "people1={'id':[1,2,3,4],\n",
    "        'name':['Harshita','Gajal','Lipakshi','Kalpit'],\n",
    "        'age':[19,18,17,20]}"
   ]
  },
  {
   "cell_type": "code",
   "execution_count": null,
   "id": "0ac54d31-fc8d-4900-b804-877933278995",
   "metadata": {},
   "outputs": [],
   "source": [
    "people2={'id':[5,6,7,8],\n",
    "        'name':['a','b','c','d'],\n",
    "        'age':[35,15,40,35]}"
   ]
  },
  {
   "cell_type": "code",
   "execution_count": null,
   "id": "0ef4e94c-c540-43dd-83f2-ab261dab00a2",
   "metadata": {},
   "outputs": [],
   "source": [
    "people3={'id':[9,10,11,12],\n",
    "        'name':['e','f','g','h'],\n",
    "        'age':[55,75,81,50]}"
   ]
  },
  {
   "cell_type": "code",
   "execution_count": null,
   "id": "80242005-e563-4e1f-9924-d33693533cb9",
   "metadata": {},
   "outputs": [],
   "source": [
    "df1=pd.DataFrame(people1)\n",
    "df2=pd.DataFrame(people2)\n",
    "df3=pd.DataFrame(people3)"
   ]
  },
  {
   "cell_type": "code",
   "execution_count": null,
   "id": "7c3349db-029e-4773-9b4c-1a72dca96aa6",
   "metadata": {},
   "outputs": [],
   "source": [
    "df1"
   ]
  },
  {
   "cell_type": "code",
   "execution_count": null,
   "id": "1f82c1d5-4da7-4c33-8c1d-2c0d1d5f1364",
   "metadata": {},
   "outputs": [],
   "source": [
    "df2"
   ]
  },
  {
   "cell_type": "code",
   "execution_count": null,
   "id": "9642fafe-564b-4a65-b47f-e2e1fa304588",
   "metadata": {},
   "outputs": [],
   "source": [
    "df3"
   ]
  },
  {
   "cell_type": "code",
   "execution_count": null,
   "id": "d7cf7508-9aee-489f-bba3-f922e614b7f1",
   "metadata": {},
   "outputs": [],
   "source": [
    "pd.concat([df1,df2,df3])"
   ]
  },
  {
   "cell_type": "code",
   "execution_count": null,
   "id": "1c626174-23f3-4c05-bc01-27db2eda5911",
   "metadata": {},
   "outputs": [],
   "source": [
    "pd.concat([df1,df2,df3],ignore_index=True)"
   ]
  },
  {
   "cell_type": "code",
   "execution_count": null,
   "id": "dfd457a4-ddb2-489f-9235-83891b3d130a",
   "metadata": {},
   "outputs": [],
   "source": [
    "pd.concat([df1,df2,df3],axis=1)"
   ]
  },
  {
   "cell_type": "markdown",
   "id": "b8d867da-a566-4ec9-95c1-5d5d9c839a6c",
   "metadata": {},
   "source": [
    "### Merge(When some values are same and some other column is also there in some dataframe)"
   ]
  },
  {
   "cell_type": "code",
   "execution_count": null,
   "id": "eb646279-4425-4d6f-a427-ae0e804764d4",
   "metadata": {},
   "outputs": [],
   "source": [
    "people4={'id':[9,10,11,12],\n",
    "        'name':['e','f','g','h'],\n",
    "        'age':[55,75,81,50]}\n",
    "people5={'id':[9,10,11,12],\n",
    "        'name':['e','f','g','h'],\n",
    "        'sales':[555,735,811,530]}"
   ]
  },
  {
   "cell_type": "code",
   "execution_count": null,
   "id": "edb488ce-2101-4031-9618-22888686c421",
   "metadata": {},
   "outputs": [],
   "source": [
    "df4=pd.DataFrame(people4)"
   ]
  },
  {
   "cell_type": "code",
   "execution_count": null,
   "id": "9b2962a9-4de6-4037-b7aa-26d500a73b2b",
   "metadata": {},
   "outputs": [],
   "source": [
    "df5=pd.DataFrame(people5)"
   ]
  },
  {
   "cell_type": "code",
   "execution_count": null,
   "id": "c7b3c00a-504f-448c-9368-0f191179bb6c",
   "metadata": {},
   "outputs": [],
   "source": [
    "pd.merge(df4,df5,on=['id','name'])"
   ]
  },
  {
   "cell_type": "code",
   "execution_count": null,
   "id": "5f7031c4-0cf2-4200-9bc4-0f8140104d65",
   "metadata": {},
   "outputs": [],
   "source": [
    "pd.merge(df4,df5,on=['id'])"
   ]
  },
  {
   "cell_type": "markdown",
   "id": "bc4489ca-5441-4129-8c05-07bc3cdfdc84",
   "metadata": {},
   "source": [
    "### Join(When everything is different)"
   ]
  },
  {
   "cell_type": "code",
   "execution_count": null,
   "id": "c115bc25-b07a-44f7-ad14-a4285dd334f4",
   "metadata": {},
   "outputs": [],
   "source": [
    "people6={'id':[13,14,15,16],\n",
    "        'name':['i','j','k','l'],\n",
    "        'age':[56,76,82,51]}\n",
    "people7={'s_name':['aa','bb','cc','dd'],\n",
    "        'ph':[12345,67890,11121314,151617]}"
   ]
  },
  {
   "cell_type": "code",
   "execution_count": null,
   "id": "bdbf4c15-23e8-40b4-88a0-657f1abc4f60",
   "metadata": {},
   "outputs": [],
   "source": [
    "df6=pd.DataFrame(people6)\n",
    "df7=pd.DataFrame(people7)"
   ]
  },
  {
   "cell_type": "code",
   "execution_count": null,
   "id": "2511058d-9bea-4217-8440-3fea1a52fc87",
   "metadata": {},
   "outputs": [],
   "source": [
    "df6.join(df7)"
   ]
  },
  {
   "cell_type": "code",
   "execution_count": null,
   "id": "67e60fc2-2cdc-412c-951b-faf8c889bd74",
   "metadata": {},
   "outputs": [],
   "source": [
    "d1=pd.read_csv('mytsv.tsv',sep='\\t')"
   ]
  },
  {
   "cell_type": "code",
   "execution_count": null,
   "id": "ac48af14-9a63-4456-aae1-a4612ef3615e",
   "metadata": {},
   "outputs": [],
   "source": [
    "d1"
   ]
  },
  {
   "cell_type": "code",
   "execution_count": null,
   "id": "62784b42-113f-4f50-bab9-c0304e7f5cac",
   "metadata": {},
   "outputs": [],
   "source": [
    "d2=pd.read_csv('mysemi.txt',sep=';')"
   ]
  },
  {
   "cell_type": "code",
   "execution_count": null,
   "id": "cc2e02a0-4d58-49f1-997a-4916ef58aa7a",
   "metadata": {},
   "outputs": [],
   "source": [
    "d2"
   ]
  },
  {
   "cell_type": "markdown",
   "id": "07b7573a-3035-4bd5-a65c-fb5d4691f3c4",
   "metadata": {},
   "source": [
    "#### Creating a json file"
   ]
  },
  {
   "cell_type": "code",
   "execution_count": null,
   "id": "ecff0181-6353-475b-bb58-d1785f0b98e4",
   "metadata": {},
   "outputs": [],
   "source": [
    "df6"
   ]
  },
  {
   "cell_type": "code",
   "execution_count": null,
   "id": "feea9db3-f0d8-44b2-bec9-1fbf2a4e8c82",
   "metadata": {},
   "outputs": [],
   "source": [
    "df6.to_json('myjason.json')"
   ]
  },
  {
   "cell_type": "code",
   "execution_count": null,
   "id": "049b618d-84bf-4c25-995f-db7e7a7ca664",
   "metadata": {},
   "outputs": [],
   "source": [
    "d4=pd.read_json('myjason.json')"
   ]
  },
  {
   "cell_type": "code",
   "execution_count": null,
   "id": "bb82e62b-b3d0-4f17-8580-2f004873bd1d",
   "metadata": {},
   "outputs": [],
   "source": [
    "d4"
   ]
  },
  {
   "cell_type": "code",
   "execution_count": null,
   "id": "9850221f-5fc1-4f78-89be-4344740b896b",
   "metadata": {},
   "outputs": [],
   "source": [
    "df5"
   ]
  },
  {
   "cell_type": "code",
   "execution_count": null,
   "id": "581cc0e2-ed00-4a4f-bd4b-f9067c28bd17",
   "metadata": {},
   "outputs": [],
   "source": [
    "df5.to_csv('mycsv.csv')"
   ]
  }
 ],
 "metadata": {
  "kernelspec": {
   "display_name": "Python 3 (ipykernel)",
   "language": "python",
   "name": "python3"
  },
  "language_info": {
   "codemirror_mode": {
    "name": "ipython",
    "version": 3
   },
   "file_extension": ".py",
   "mimetype": "text/x-python",
   "name": "python",
   "nbconvert_exporter": "python",
   "pygments_lexer": "ipython3",
   "version": "3.9.12"
  }
 },
 "nbformat": 4,
 "nbformat_minor": 5
}
